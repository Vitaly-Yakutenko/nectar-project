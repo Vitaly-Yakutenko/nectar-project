{
 "cells": [
  {
   "cell_type": "code",
   "execution_count": 39,
   "metadata": {},
   "outputs": [],
   "source": [
    "from glob import glob\n",
    "import json\n",
    "import re\n",
    "import yaml\n",
    "import os\n",
    "os.chdir('../')"
   ]
  },
  {
   "cell_type": "code",
   "execution_count": 33,
   "metadata": {},
   "outputs": [],
   "source": [
    "with open(\"config.yaml\", 'r') as ymlfile:\n",
    "    cfg = yaml.load(ymlfile)"
   ]
  },
  {
   "cell_type": "code",
   "execution_count": 38,
   "metadata": {},
   "outputs": [
    {
     "data": {
      "text/plain": [
       "43643"
      ]
     },
     "execution_count": 38,
     "metadata": {},
     "output_type": "execute_result"
    }
   ],
   "source": [
    "coordinate_pathes = glob('../data/tweets/*.json')\n",
    "len(coordinate_pathes)"
   ]
  },
  {
   "cell_type": "code",
   "execution_count": 37,
   "metadata": {},
   "outputs": [
    {
     "data": {
      "text/plain": [
       "37591"
      ]
     },
     "execution_count": 37,
     "metadata": {},
     "output_type": "execute_result"
    }
   ],
   "source": [
    "pathes = glob('../data/tweet_no_coordinates/*.json')\n",
    "len(pathes)"
   ]
  },
  {
   "cell_type": "code",
   "execution_count": 21,
   "metadata": {},
   "outputs": [],
   "source": [
    "hashtags = ['bitcoin', 'blockchain', 'btc', 'cryptocurrency', 'market\\svalue',\n",
    "            'crypto','ethereum', 'fintech', 'coin', 'doge', 'ethereum', 'ripple', 'litecoin', \n",
    "            'cardano', 'monero', 'TRON', 'zcash', 'jaxx', 'copay', 'bitpay', 'exodus', \n",
    "            'mycelium', 'Bread\\sWallet', 'trezor', 'ledger\\snano', 'Silk\\sRoad', 'darknet\\smarket', \n",
    "            'dogecoin', 'ASIC\\sMiner', 'Central\\sLedger', 'Hashrate', 'ICO',         \n",
    "           ]"
   ]
  },
  {
   "cell_type": "code",
   "execution_count": 22,
   "metadata": {},
   "outputs": [
    {
     "data": {
      "text/plain": [
       "'bitcoin|blockchain|btc|cryptocurrency|market\\\\svalue|crypto|ethereum|fintech|coin|doge|ethereum|ripple|litecoin|cardano|monero|TRON|zcash|jaxx|copay|bitpay|exodus|mycelium|Bread\\\\sWallet|trezor|ledger\\\\snano|Silk\\\\sRoad|darknet\\\\smarket|dogecoin|ASIC\\\\sMiner|Central\\\\sLedger|Hashrate|ICO'"
      ]
     },
     "execution_count": 22,
     "metadata": {},
     "output_type": "execute_result"
    }
   ],
   "source": [
    "'|'.join(hashtags)"
   ]
  },
  {
   "cell_type": "code",
   "execution_count": 23,
   "metadata": {},
   "outputs": [],
   "source": [
    "bitcoin_pathes = []\n",
    "for path in (pathes + coordinate_pathes):\n",
    "    with open(path, 'r') as fp:\n",
    "        data = json.load(fp)\n",
    "        if re.search('|'.join(hashtags), json.dumps(data)):\n",
    "            bitcoin_pathes.append(path)\n",
    "        #print(data['entities']['hashtags'])\n"
   ]
  },
  {
   "cell_type": "code",
   "execution_count": 24,
   "metadata": {},
   "outputs": [
    {
     "data": {
      "text/plain": [
       "374"
      ]
     },
     "execution_count": 24,
     "metadata": {},
     "output_type": "execute_result"
    }
   ],
   "source": [
    "len(bitcoin_pathes)"
   ]
  },
  {
   "cell_type": "code",
   "execution_count": 16,
   "metadata": {},
   "outputs": [
    {
     "data": {
      "text/plain": [
       "{'contributors': None,\n",
       " 'coordinates': None,\n",
       " 'created_at': 'Fri Apr 27 07:30:29 +0000 2018',\n",
       " 'entities': {'hashtags': [],\n",
       "  'symbols': [],\n",
       "  'urls': [{'display_url': 'twitter.com/i/web/status/9…',\n",
       "    'expanded_url': 'https://twitter.com/i/web/status/989768732128886787',\n",
       "    'indices': [107, 130],\n",
       "    'url': 'https://t.co/9UztEJBlnB'}],\n",
       "  'user_mentions': [{'id': 975165471388352512,\n",
       "    'id_str': '975165471388352512',\n",
       "    'indices': [44, 52],\n",
       "    'name': \"PlayerUnknown's Battleground Australia\",\n",
       "    'screen_name': 'PUBGaus'}]},\n",
       " 'extended_tweet': {'display_text_range': [0, 288],\n",
       "  'entities': {'hashtags': [],\n",
       "   'symbols': [],\n",
       "   'urls': [],\n",
       "   'user_mentions': [{'id': 975165471388352512,\n",
       "     'id_str': '975165471388352512',\n",
       "     'indices': [44, 52],\n",
       "     'name': \"PlayerUnknown's Battleground Australia\",\n",
       "     'screen_name': 'PUBGaus'},\n",
       "    {'id': 731770043969634304,\n",
       "     'id_str': '731770043969634304',\n",
       "     'indices': [106, 118],\n",
       "     'name': 'Athletico',\n",
       "     'screen_name': 'AthleticoES'},\n",
       "    {'id': 989029007852220417,\n",
       "     'id_str': '989029007852220417',\n",
       "     'indices': [140, 153],\n",
       "     'name': 'Team Pathogen',\n",
       "     'screen_name': 'TeamPathogen'},\n",
       "    {'id': 1663765849,\n",
       "     'id_str': '1663765849',\n",
       "     'indices': [160, 171],\n",
       "     'name': 'Tainted Minds',\n",
       "     'screen_name': 'TaintedOrg'},\n",
       "    {'id': 843411320279990273,\n",
       "     'id_str': '843411320279990273',\n",
       "     'indices': [242, 258],\n",
       "     'name': 'GRAYHOUND',\n",
       "     'screen_name': 'grayhoundgaming'},\n",
       "    {'id': 1201830104,\n",
       "     'id_str': '1201830104',\n",
       "     'indices': [260, 270],\n",
       "     'name': 'Osiris Esports Club',\n",
       "     'screen_name': 'OsirisESC'},\n",
       "    {'id': 2728495933,\n",
       "     'id_str': '2728495933',\n",
       "     'indices': [277, 287],\n",
       "     'name': 'The Chiefs Esports Club',\n",
       "     'screen_name': 'ChiefsESC'}]},\n",
       "  'full_text': \"We're half way through the final day of the @PUBGaus tournament. The OCE teams are still kicking ass with @AthleticoES in 1st and wins from @TeamPathogen &amp; @TaintedOrg.  Goodluck to all teams playing, but especially the 7 OCE teams - ZT, @grayhoundgaming, @OsirisESC &amp; @ChiefsESC!\"},\n",
       " 'favorite_count': 0,\n",
       " 'favorited': False,\n",
       " 'filter_level': 'low',\n",
       " 'geo': None,\n",
       " 'id': 989768732128886787,\n",
       " 'id_str': '989768732128886787',\n",
       " 'in_reply_to_screen_name': None,\n",
       " 'in_reply_to_status_id': None,\n",
       " 'in_reply_to_status_id_str': None,\n",
       " 'in_reply_to_user_id': None,\n",
       " 'in_reply_to_user_id_str': None,\n",
       " 'is_quote_status': False,\n",
       " 'lang': 'en',\n",
       " 'place': {'attributes': {},\n",
       "  'bounding_box': {'coordinates': [[[144.593742, -38.433859],\n",
       "     [144.593742, -37.511274],\n",
       "     [145.512529, -37.511274],\n",
       "     [145.512529, -38.433859]]],\n",
       "   'type': 'Polygon'},\n",
       "  'country': 'Australia',\n",
       "  'country_code': 'AU',\n",
       "  'full_name': 'Melbourne, Victoria',\n",
       "  'id': '01864a8a64df9dc4',\n",
       "  'name': 'Melbourne',\n",
       "  'place_type': 'city',\n",
       "  'url': 'https://api.twitter.com/1.1/geo/id/01864a8a64df9dc4.json'},\n",
       " 'quote_count': 0,\n",
       " 'reply_count': 0,\n",
       " 'retweet_count': 0,\n",
       " 'retweeted': False,\n",
       " 'source': '<a href=\"http://twitter.com/download/android\" rel=\"nofollow\">Twitter for Android</a>',\n",
       " 'text': \"We're half way through the final day of the @PUBGaus tournament. The OCE teams are still kicking ass with… https://t.co/9UztEJBlnB\",\n",
       " 'timestamp_ms': '1524814229410',\n",
       " 'truncated': True,\n",
       " 'user': {'contributors_enabled': False,\n",
       "  'created_at': 'Mon Aug 01 00:24:12 +0000 2011',\n",
       "  'default_profile': False,\n",
       "  'default_profile_image': False,\n",
       "  'description': 'Lover of kittens, snowboarding, karaoke, & Coke Zero | Admin, Event Host & Community Manager for @PUBGOCE | Manager for PUBG @ORDER_army | All tweets are my own',\n",
       "  'favourites_count': 753,\n",
       "  'follow_request_sent': None,\n",
       "  'followers_count': 377,\n",
       "  'following': None,\n",
       "  'friends_count': 485,\n",
       "  'geo_enabled': True,\n",
       "  'id': 346262225,\n",
       "  'id_str': '346262225',\n",
       "  'is_translator': False,\n",
       "  'lang': 'en',\n",
       "  'listed_count': 6,\n",
       "  'location': 'Auckland, New Zealand',\n",
       "  'name': 'Erin @ Zimo🍗🍗',\n",
       "  'notifications': None,\n",
       "  'profile_background_color': '000000',\n",
       "  'profile_background_image_url': 'http://pbs.twimg.com/profile_background_images/703719353/0d0b9ded3ede183c30b139fe63bf6d05.jpeg',\n",
       "  'profile_background_image_url_https': 'https://pbs.twimg.com/profile_background_images/703719353/0d0b9ded3ede183c30b139fe63bf6d05.jpeg',\n",
       "  'profile_background_tile': False,\n",
       "  'profile_banner_url': 'https://pbs.twimg.com/profile_banners/346262225/1524042634',\n",
       "  'profile_image_url': 'http://pbs.twimg.com/profile_images/953706555022524419/CRkHhwCv_normal.jpg',\n",
       "  'profile_image_url_https': 'https://pbs.twimg.com/profile_images/953706555022524419/CRkHhwCv_normal.jpg',\n",
       "  'profile_link_color': '91D2FA',\n",
       "  'profile_sidebar_border_color': '4A66C1',\n",
       "  'profile_sidebar_fill_color': '0E0E0E',\n",
       "  'profile_text_color': '4A66C1',\n",
       "  'profile_use_background_image': True,\n",
       "  'protected': False,\n",
       "  'screen_name': 'EzzaSays',\n",
       "  'statuses_count': 374,\n",
       "  'time_zone': 'Auckland',\n",
       "  'translator_type': 'none',\n",
       "  'url': 'http://www.pubgoce.com',\n",
       "  'utc_offset': 43200,\n",
       "  'verified': False}}"
      ]
     },
     "execution_count": 16,
     "metadata": {},
     "output_type": "execute_result"
    }
   ],
   "source": [
    "for path in bitcoin_pathes[:6]:\n",
    "    with open(path, 'r') as fp:\n",
    "        data = json.load(fp)\n",
    "data\n"
   ]
  },
  {
   "cell_type": "code",
   "execution_count": null,
   "metadata": {},
   "outputs": [],
   "source": []
  },
  {
   "cell_type": "code",
   "execution_count": null,
   "metadata": {},
   "outputs": [],
   "source": []
  },
  {
   "cell_type": "code",
   "execution_count": null,
   "metadata": {},
   "outputs": [],
   "source": []
  },
  {
   "cell_type": "code",
   "execution_count": null,
   "metadata": {},
   "outputs": [],
   "source": []
  }
 ],
 "metadata": {
  "kernelspec": {
   "display_name": "Python 3",
   "language": "python",
   "name": "python3"
  },
  "language_info": {
   "codemirror_mode": {
    "name": "ipython",
    "version": 3
   },
   "file_extension": ".py",
   "mimetype": "text/x-python",
   "name": "python",
   "nbconvert_exporter": "python",
   "pygments_lexer": "ipython3",
   "version": "3.6.2"
  }
 },
 "nbformat": 4,
 "nbformat_minor": 2
}
