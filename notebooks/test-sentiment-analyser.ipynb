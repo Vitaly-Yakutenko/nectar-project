{
 "cells": [
  {
   "cell_type": "code",
   "execution_count": 1,
   "metadata": {},
   "outputs": [
    {
     "name": "stdout",
     "output_type": "stream",
     "text": [
      "[nltk_data] Downloading package vader_lexicon to\n",
      "[nltk_data]     /home/hima950/nltk_data...\n",
      "[nltk_data]   Package vader_lexicon is already up-to-date!\n",
      "[nltk_data] Downloading package punkt to /home/hima950/nltk_data...\n",
      "[nltk_data]   Package punkt is already up-to-date!\n"
     ]
    }
   ],
   "source": [
    "#importing and downloading revelant modules from NLTK\n",
    "import nltk\n",
    "nltk.download('vader_lexicon')\n",
    "nltk.download('punkt')\n",
    "from nltk.sentiment.vader import SentimentIntensityAnalyzer"
   ]
  },
  {
   "cell_type": "code",
   "execution_count": 2,
   "metadata": {},
   "outputs": [],
   "source": [
    "import json\n",
    "import os\n",
    "import time\n",
    "import yaml\n",
    "os.chdir('../')\n",
    "from api.couch_db import TweetsDB\n",
    "from glob import glob"
   ]
  },
  {
   "cell_type": "code",
   "execution_count": 3,
   "metadata": {},
   "outputs": [],
   "source": [
    "#open the config file for Db connections and folder paths\n",
    "with open(\"config.yaml\", 'r') as ymlfile:\n",
    "    cfg = yaml.load(ymlfile)"
   ]
  },
  {
   "cell_type": "code",
   "execution_count": 4,
   "metadata": {},
   "outputs": [],
   "source": [
    "#db connections\n",
    "couch_db_conf = cfg['COUCHDB']\n",
    "#create an instance of TWEETSDB and pass the connection details\n",
    "couch_db = TweetsDB(couch_db_conf)\n",
    "#path to senti_folder\n",
    "senti_tasks_path= cfg['QUEUES']['sentiment_tasks']"
   ]
  },
  {
   "cell_type": "code",
   "execution_count": 5,
   "metadata": {},
   "outputs": [],
   "source": [
    "\n",
    "\n",
    "def senti_analyse(input_doc):\n",
    "    senti = SentimentIntensityAnalyzer()\n",
    "    points = senti.polarity_scores(input_doc)\n",
    "    if points['compound']<0.0:\n",
    "        points['sentiment']= \"Negative\"\n",
    "        if points['compound']<= -0.5:\n",
    "            points['Intensity']=\"Strong\"\n",
    "        if -0.5 <points['compound']< 0.0:\n",
    "            points['Intensity']=\"Moderate\"\n",
    "    if points['compound']>0.0:\n",
    "        points['sentiment']= \"Positive\"\n",
    "        if points['compound']>= 0.5:\n",
    "            points['Intensity']=\"Strong\"\n",
    "        if 0.0<points['compound']<0.5:\n",
    "            points['Intensity']=\"Moderate\"\n",
    "    if points['neu']==1:\n",
    "        points['sentiment']=\"Neutral\"       \n",
    "\n",
    "    return points\n",
    "            \n",
    "    \n",
    "    \n",
    "    \n",
    "  "
   ]
  },
  {
   "cell_type": "code",
   "execution_count": null,
   "metadata": {},
   "outputs": [
    {
     "data": {
      "text/plain": [
       "{'compound': 0.0, 'neg': 0.0, 'neu': 1.0, 'pos': 0.0, 'sentiment': 'Neutral'}"
      ]
     },
     "execution_count": 6,
     "metadata": {},
     "output_type": "execute_result"
    }
   ],
   "source": [
    "senti_analyse(\"me_shivaum @Miriam_McGuirk @ChrisJ_Pollard @NevilleGaunt @sagerbob @keswanger @DemarcioWash @BruceMctague… https://t.co/hSEOWBv5JC\")"
   ]
  },
  {
   "cell_type": "code",
   "execution_count": null,
   "metadata": {
    "scrolled": true
   },
   "outputs": [],
   "source": [
    "i = 1\n",
    "while True:\n",
    "    senti_tweets = glob('{}/*.txt'.format(senti_tasks_path))\n",
    " \n",
    "    for path in senti_tweets:\n",
    "        try:\n",
    "            tweet_id = path.split('/')[-1].split('.')[0]\n",
    "            with open(path, 'r') as fp:\n",
    "                senti = fp.read()\n",
    "            senti_doc = senti_analyse(senti)\n",
    "            couch_db.update_document(tweet_id,senti_doc)\n",
    "            try:\n",
    "                os.remove(path)\n",
    "            except Exception as e:\n",
    "                           # if failed, report it back to the user \n",
    "                print(\"Error: {} .\".format(e))\n",
    "        except Exception as e:\n",
    "            print('Tweet {} wasn\\'t Senti Analysed and updated on DB due to error. {}'.format(tweet_id, e))\n",
    "         \n",
    "    print('Iteration: {}\\tFiles processed: {}'.format(i, len(senti_tweets)))\n",
    "    i+=1\n",
    "    time.sleep(18)"
   ]
  },
  {
   "cell_type": "code",
   "execution_count": null,
   "metadata": {},
   "outputs": [],
   "source": []
  },
  {
   "cell_type": "code",
   "execution_count": null,
   "metadata": {},
   "outputs": [],
   "source": []
  }
 ],
 "metadata": {
  "kernelspec": {
   "display_name": "Python 3",
   "language": "python",
   "name": "python3"
  },
  "language_info": {
   "codemirror_mode": {
    "name": "ipython",
    "version": 3
   },
   "file_extension": ".py",
   "mimetype": "text/x-python",
   "name": "python",
   "nbconvert_exporter": "python",
   "pygments_lexer": "ipython3",
   "version": "3.6.2"
  }
 },
 "nbformat": 4,
 "nbformat_minor": 2
}
