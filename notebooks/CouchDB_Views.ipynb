{
 "cells": [
  {
   "cell_type": "code",
   "execution_count": 1,
   "metadata": {},
   "outputs": [],
   "source": [
    "import requests\n",
    "import os\n",
    "import yaml\n",
    "os.chdir('../')"
   ]
  },
  {
   "cell_type": "code",
   "execution_count": 2,
   "metadata": {},
   "outputs": [],
   "source": [
    "import pandas as pd\n",
    "import numpy as np\n",
    "import seaborn\n",
    "import matplotlib\n",
    "import matplotlib.pyplot as plt\n",
    "%matplotlib inline"
   ]
  },
  {
   "cell_type": "code",
   "execution_count": 3,
   "metadata": {},
   "outputs": [],
   "source": [
    "params = {'legend.fontsize': 14,\n",
    "          'figure.figsize': (15, 8),\n",
    "         'axes.labelsize': 14,\n",
    "         'axes.titlesize': 14,\n",
    "         'xtick.labelsize': 14,\n",
    "         'ytick.labelsize': 14}\n",
    "plt.rcParams.update(params)\n",
    "pd.options.display.max_columns = 50\n",
    "pd.options.display.precision = 2"
   ]
  },
  {
   "cell_type": "code",
   "execution_count": 4,
   "metadata": {},
   "outputs": [],
   "source": [
    "from cloudant.view import View\n",
    "from cloudant.client import Cloudant\n",
    "from cloudant.document import Document"
   ]
  },
  {
   "cell_type": "code",
   "execution_count": 5,
   "metadata": {},
   "outputs": [],
   "source": [
    "def unfold_keys(df):\n",
    "    df = df.copy()\n",
    "    key_column = 'key'\n",
    "    for i in range(0, len(df.loc[0,key_column])):\n",
    "        df.insert(i, 'level_{}'.format(i+1), df[key_column].apply(lambda x: x[i]))\n",
    "    del df[key_column]\n",
    "    return df"
   ]
  },
  {
   "cell_type": "code",
   "execution_count": 6,
   "metadata": {},
   "outputs": [],
   "source": [
    "with open(\"config.yaml\", 'r') as ymlfile:\n",
    "    cfg = yaml.load(ymlfile)"
   ]
  },
  {
   "cell_type": "code",
   "execution_count": 7,
   "metadata": {},
   "outputs": [],
   "source": [
    "cfg = cfg['COUCHDB']\n",
    "client = Cloudant(cfg['user'], cfg['password'], url=cfg['host'])\n",
    "client.connect()\n",
    "tweets_db = client[cfg['tweets_db']]\n",
    "aurin_db = client[cfg['aurin_db']]\n",
    "ddoc = Document(tweets_db, '_design/sentiment_analysis')"
   ]
  },
  {
   "cell_type": "code",
   "execution_count": 8,
   "metadata": {},
   "outputs": [],
   "source": [
    "view = View(ddoc, 'geo_sentiment_counts', )\n",
    "with view.custom_result(group=True, stale='update_after', descending=True) as rslt:\n",
    "    df = pd.DataFrame.from_records(rslt.all())"
   ]
  },
  {
   "cell_type": "code",
   "execution_count": 9,
   "metadata": {},
   "outputs": [],
   "source": [
    "geo_sentiment_columns = ['sa4_area', 'gccsa_area', 'state', 'sentiment', 'tweets_count']\n",
    "data_df = unfold_keys(df)\n",
    "data_df.dropna(inplace=True)\n",
    "data_df.columns = geo_sentiment_columns\n",
    "data_df.sort_values('tweets_count', ascending=False, inplace=True)"
   ]
  },
  {
   "cell_type": "code",
   "execution_count": 10,
   "metadata": {},
   "outputs": [],
   "source": [
    "data_df.set_index(geo_sentiment_columns[:-1], inplace=True)"
   ]
  },
  {
   "cell_type": "code",
   "execution_count": 11,
   "metadata": {},
   "outputs": [],
   "source": [
    "sentiment_df = data_df.unstack(level=-1, fill_value=0)"
   ]
  },
  {
   "cell_type": "code",
   "execution_count": 12,
   "metadata": {},
   "outputs": [],
   "source": [
    "#data_df.head()"
   ]
  },
  {
   "cell_type": "code",
   "execution_count": 28,
   "metadata": {},
   "outputs": [],
   "source": [
    "data = [item['properties'] for item in aurin_db['GCCSA_median_income']['features']]"
   ]
  },
  {
   "cell_type": "code",
   "execution_count": 29,
   "metadata": {},
   "outputs": [
    {
     "data": {
      "text/html": [
       "<div>\n",
       "<style scoped>\n",
       "    .dataframe tbody tr th:only-of-type {\n",
       "        vertical-align: middle;\n",
       "    }\n",
       "\n",
       "    .dataframe tbody tr th {\n",
       "        vertical-align: top;\n",
       "    }\n",
       "\n",
       "    .dataframe thead th {\n",
       "        text-align: right;\n",
       "    }\n",
       "</style>\n",
       "<table border=\"1\" class=\"dataframe\">\n",
       "  <thead>\n",
       "    <tr style=\"text-align: right;\">\n",
       "      <th></th>\n",
       "      <th>gcc_code16</th>\n",
       "      <th>gcc_name16</th>\n",
       "      <th>median_tot_fam_inc_weekly</th>\n",
       "      <th>median_tot_hhd_inc_weekly</th>\n",
       "      <th>median_tot_prsnl_inc_weekly</th>\n",
       "    </tr>\n",
       "  </thead>\n",
       "  <tbody>\n",
       "    <tr>\n",
       "      <th>0</th>\n",
       "      <td>1GSYD</td>\n",
       "      <td>Greater Sydney</td>\n",
       "      <td>1988</td>\n",
       "      <td>1750</td>\n",
       "      <td>719</td>\n",
       "    </tr>\n",
       "    <tr>\n",
       "      <th>1</th>\n",
       "      <td>1RNSW</td>\n",
       "      <td>Rest of NSW</td>\n",
       "      <td>1449</td>\n",
       "      <td>1168</td>\n",
       "      <td>584</td>\n",
       "    </tr>\n",
       "    <tr>\n",
       "      <th>2</th>\n",
       "      <td>2GMEL</td>\n",
       "      <td>Greater Melbourne</td>\n",
       "      <td>1826</td>\n",
       "      <td>1542</td>\n",
       "      <td>673</td>\n",
       "    </tr>\n",
       "    <tr>\n",
       "      <th>3</th>\n",
       "      <td>2RVIC</td>\n",
       "      <td>Rest of Vic.</td>\n",
       "      <td>1418</td>\n",
       "      <td>1124</td>\n",
       "      <td>576</td>\n",
       "    </tr>\n",
       "    <tr>\n",
       "      <th>4</th>\n",
       "      <td>3GBRI</td>\n",
       "      <td>Greater Brisbane</td>\n",
       "      <td>1821</td>\n",
       "      <td>1562</td>\n",
       "      <td>703</td>\n",
       "    </tr>\n",
       "    <tr>\n",
       "      <th>5</th>\n",
       "      <td>3RQLD</td>\n",
       "      <td>Rest of Qld</td>\n",
       "      <td>1511</td>\n",
       "      <td>1271</td>\n",
       "      <td>624</td>\n",
       "    </tr>\n",
       "    <tr>\n",
       "      <th>6</th>\n",
       "      <td>4GADE</td>\n",
       "      <td>Greater Adelaide</td>\n",
       "      <td>1591</td>\n",
       "      <td>1265</td>\n",
       "      <td>617</td>\n",
       "    </tr>\n",
       "    <tr>\n",
       "      <th>7</th>\n",
       "      <td>4RSAU</td>\n",
       "      <td>Rest of SA</td>\n",
       "      <td>1307</td>\n",
       "      <td>1027</td>\n",
       "      <td>550</td>\n",
       "    </tr>\n",
       "    <tr>\n",
       "      <th>8</th>\n",
       "      <td>5GPER</td>\n",
       "      <td>Greater Perth</td>\n",
       "      <td>1955</td>\n",
       "      <td>1643</td>\n",
       "      <td>728</td>\n",
       "    </tr>\n",
       "    <tr>\n",
       "      <th>9</th>\n",
       "      <td>5RWAU</td>\n",
       "      <td>Rest of WA</td>\n",
       "      <td>1730</td>\n",
       "      <td>1415</td>\n",
       "      <td>713</td>\n",
       "    </tr>\n",
       "    <tr>\n",
       "      <th>10</th>\n",
       "      <td>6GHOB</td>\n",
       "      <td>Greater Hobart</td>\n",
       "      <td>1569</td>\n",
       "      <td>1234</td>\n",
       "      <td>637</td>\n",
       "    </tr>\n",
       "    <tr>\n",
       "      <th>11</th>\n",
       "      <td>6RTAS</td>\n",
       "      <td>Rest of Tas.</td>\n",
       "      <td>1286</td>\n",
       "      <td>998</td>\n",
       "      <td>527</td>\n",
       "    </tr>\n",
       "    <tr>\n",
       "      <th>12</th>\n",
       "      <td>7GDAR</td>\n",
       "      <td>Greater Darwin</td>\n",
       "      <td>2386</td>\n",
       "      <td>2183</td>\n",
       "      <td>1052</td>\n",
       "    </tr>\n",
       "    <tr>\n",
       "      <th>13</th>\n",
       "      <td>7RNTE</td>\n",
       "      <td>Rest of NT</td>\n",
       "      <td>1352</td>\n",
       "      <td>1561</td>\n",
       "      <td>525</td>\n",
       "    </tr>\n",
       "    <tr>\n",
       "      <th>14</th>\n",
       "      <td>8ACTE</td>\n",
       "      <td>Australian Capital Territory</td>\n",
       "      <td>2445</td>\n",
       "      <td>2070</td>\n",
       "      <td>1000</td>\n",
       "    </tr>\n",
       "    <tr>\n",
       "      <th>15</th>\n",
       "      <td>9OTER</td>\n",
       "      <td>Other Territories</td>\n",
       "      <td>1568</td>\n",
       "      <td>1377</td>\n",
       "      <td>715</td>\n",
       "    </tr>\n",
       "  </tbody>\n",
       "</table>\n",
       "</div>"
      ],
      "text/plain": [
       "   gcc_code16                    gcc_name16  median_tot_fam_inc_weekly  \\\n",
       "0       1GSYD                Greater Sydney                       1988   \n",
       "1       1RNSW                   Rest of NSW                       1449   \n",
       "2       2GMEL             Greater Melbourne                       1826   \n",
       "3       2RVIC                  Rest of Vic.                       1418   \n",
       "4       3GBRI              Greater Brisbane                       1821   \n",
       "5       3RQLD                   Rest of Qld                       1511   \n",
       "6       4GADE              Greater Adelaide                       1591   \n",
       "7       4RSAU                    Rest of SA                       1307   \n",
       "8       5GPER                 Greater Perth                       1955   \n",
       "9       5RWAU                    Rest of WA                       1730   \n",
       "10      6GHOB                Greater Hobart                       1569   \n",
       "11      6RTAS                  Rest of Tas.                       1286   \n",
       "12      7GDAR                Greater Darwin                       2386   \n",
       "13      7RNTE                    Rest of NT                       1352   \n",
       "14      8ACTE  Australian Capital Territory                       2445   \n",
       "15      9OTER             Other Territories                       1568   \n",
       "\n",
       "    median_tot_hhd_inc_weekly  median_tot_prsnl_inc_weekly  \n",
       "0                        1750                          719  \n",
       "1                        1168                          584  \n",
       "2                        1542                          673  \n",
       "3                        1124                          576  \n",
       "4                        1562                          703  \n",
       "5                        1271                          624  \n",
       "6                        1265                          617  \n",
       "7                        1027                          550  \n",
       "8                        1643                          728  \n",
       "9                        1415                          713  \n",
       "10                       1234                          637  \n",
       "11                        998                          527  \n",
       "12                       2183                         1052  \n",
       "13                       1561                          525  \n",
       "14                       2070                         1000  \n",
       "15                       1377                          715  "
      ]
     },
     "execution_count": 29,
     "metadata": {},
     "output_type": "execute_result"
    }
   ],
   "source": [
    "pd.DataFrame.from_records(data)"
   ]
  },
  {
   "cell_type": "code",
   "execution_count": 34,
   "metadata": {},
   "outputs": [],
   "source": [
    "sentiment_df = sentiment_df.groupby(level='gccsa_area').sum()\n",
    "sentiment_df.columns = sentiment_df.columns.droplevel(0)\n",
    "sorted_columns = list(sentiment_df.sum().sort_values(ascending=False).index.values)\n",
    "sentiment_df = sentiment_df[sorted_columns]"
   ]
  },
  {
   "cell_type": "markdown",
   "metadata": {},
   "source": [
    "# Sentiment By States"
   ]
  },
  {
   "cell_type": "code",
   "execution_count": 30,
   "metadata": {},
   "outputs": [
    {
     "data": {
      "image/png": "[encoded data removed]",
      "text/plain": [
       "<matplotlib.figure.Figure at 0x1111c3d30>"
      ]
     },
     "metadata": {},
     "output_type": "display_data"
    }
   ],
   "source": [
    "plot_df.sort_values('Positive', ascending=False, inplace=True)\n",
    "plot_df.plot.bar(stacked=True)\n",
    "plt.show()"
   ]
  },
  {
   "cell_type": "code",
   "execution_count": 31,
   "metadata": {},
   "outputs": [],
   "source": [
    "totals = plot_df.sum(axis=1)\n",
    "for idx in plot_df.index.values:\n",
    "    plot_df.loc[idx] = plot_df.loc[idx] / totals.loc[idx] * 100"
   ]
  },
  {
   "cell_type": "code",
   "execution_count": 32,
   "metadata": {},
   "outputs": [
    {
     "data": {
      "image/png": "[encoded data removed]",
      "text/plain": [
       "<matplotlib.figure.Figure at 0x1241a1a20>"
      ]
     },
     "metadata": {},
     "output_type": "display_data"
    },
    {
     "data": {
      "text/html": [
       "<div>\n",
       "<style scoped>\n",
       "    .dataframe tbody tr th:only-of-type {\n",
       "        vertical-align: middle;\n",
       "    }\n",
       "\n",
       "    .dataframe tbody tr th {\n",
       "        vertical-align: top;\n",
       "    }\n",
       "\n",
       "    .dataframe thead th {\n",
       "        text-align: right;\n",
       "    }\n",
       "</style>\n",
       "<table border=\"1\" class=\"dataframe\">\n",
       "  <thead>\n",
       "    <tr style=\"text-align: right;\">\n",
       "      <th>sentiment</th>\n",
       "      <th>Positive</th>\n",
       "      <th>Neutral</th>\n",
       "      <th>Negative</th>\n",
       "    </tr>\n",
       "    <tr>\n",
       "      <th>gccsa_area</th>\n",
       "      <th></th>\n",
       "      <th></th>\n",
       "      <th></th>\n",
       "    </tr>\n",
       "  </thead>\n",
       "  <tbody>\n",
       "    <tr>\n",
       "      <th>Greater Sydney</th>\n",
       "      <td>43%</td>\n",
       "      <td>39%</td>\n",
       "      <td>18%</td>\n",
       "    </tr>\n",
       "    <tr>\n",
       "      <th>Greater Melbourne</th>\n",
       "      <td>42%</td>\n",
       "      <td>39%</td>\n",
       "      <td>19%</td>\n",
       "    </tr>\n",
       "    <tr>\n",
       "      <th>Greater Brisbane</th>\n",
       "      <td>42%</td>\n",
       "      <td>39%</td>\n",
       "      <td>19%</td>\n",
       "    </tr>\n",
       "    <tr>\n",
       "      <th>Rest of Qld</th>\n",
       "      <td>45%</td>\n",
       "      <td>38%</td>\n",
       "      <td>17%</td>\n",
       "    </tr>\n",
       "    <tr>\n",
       "      <th>Rest of NSW</th>\n",
       "      <td>43%</td>\n",
       "      <td>38%</td>\n",
       "      <td>19%</td>\n",
       "    </tr>\n",
       "    <tr>\n",
       "      <th>Greater Perth</th>\n",
       "      <td>42%</td>\n",
       "      <td>40%</td>\n",
       "      <td>18%</td>\n",
       "    </tr>\n",
       "    <tr>\n",
       "      <th>Rest of Vic.</th>\n",
       "      <td>45%</td>\n",
       "      <td>37%</td>\n",
       "      <td>18%</td>\n",
       "    </tr>\n",
       "    <tr>\n",
       "      <th>Greater Adelaide</th>\n",
       "      <td>43%</td>\n",
       "      <td>40%</td>\n",
       "      <td>18%</td>\n",
       "    </tr>\n",
       "    <tr>\n",
       "      <th>Australian Capital Territory</th>\n",
       "      <td>43%</td>\n",
       "      <td>37%</td>\n",
       "      <td>20%</td>\n",
       "    </tr>\n",
       "    <tr>\n",
       "      <th>Rest of SA</th>\n",
       "      <td>41%</td>\n",
       "      <td>40%</td>\n",
       "      <td>20%</td>\n",
       "    </tr>\n",
       "    <tr>\n",
       "      <th>Rest of WA</th>\n",
       "      <td>39%</td>\n",
       "      <td>44%</td>\n",
       "      <td>18%</td>\n",
       "    </tr>\n",
       "    <tr>\n",
       "      <th>Rest of NT</th>\n",
       "      <td>46%</td>\n",
       "      <td>41%</td>\n",
       "      <td>13%</td>\n",
       "    </tr>\n",
       "    <tr>\n",
       "      <th>Greater Darwin</th>\n",
       "      <td>45%</td>\n",
       "      <td>40%</td>\n",
       "      <td>15%</td>\n",
       "    </tr>\n",
       "    <tr>\n",
       "      <th>Other Territories</th>\n",
       "      <td>100%</td>\n",
       "      <td>0%</td>\n",
       "      <td>0%</td>\n",
       "    </tr>\n",
       "    <tr>\n",
       "      <th>Rest of Tas.</th>\n",
       "      <td>33%</td>\n",
       "      <td>67%</td>\n",
       "      <td>0%</td>\n",
       "    </tr>\n",
       "  </tbody>\n",
       "</table>\n",
       "</div>"
      ],
      "text/plain": [
       "sentiment                    Positive Neutral Negative\n",
       "gccsa_area                                            \n",
       "Greater Sydney                    43%     39%      18%\n",
       "Greater Melbourne                 42%     39%      19%\n",
       "Greater Brisbane                  42%     39%      19%\n",
       "Rest of Qld                       45%     38%      17%\n",
       "Rest of NSW                       43%     38%      19%\n",
       "Greater Perth                     42%     40%      18%\n",
       "Rest of Vic.                      45%     37%      18%\n",
       "Greater Adelaide                  43%     40%      18%\n",
       "Australian Capital Territory      43%     37%      20%\n",
       "Rest of SA                        41%     40%      20%\n",
       "Rest of WA                        39%     44%      18%\n",
       "Rest of NT                        46%     41%      13%\n",
       "Greater Darwin                    45%     40%      15%\n",
       "Other Territories                100%      0%       0%\n",
       "Rest of Tas.                      33%     67%       0%"
      ]
     },
     "execution_count": 32,
     "metadata": {},
     "output_type": "execute_result"
    }
   ],
   "source": [
    "plot_df.plot.bar(stacked=True)\n",
    "ax = plt.gca()\n",
    "ax.legend(frameon=True, loc=2, bbox_to_anchor=(1.02, 0.0,.25, .95), mode='expand', borderaxespad=0.,\n",
    "                      title='Sentiment')\n",
    "ax.set_title('Percentage of tweets by Sentiment and State')\n",
    "ax.set_ylabel('Percentage of Tweets')\n",
    "plt.show()\n",
    "plot_df.applymap(lambda x: '{:.0f}%'.format(x))"
   ]
  },
  {
   "cell_type": "code",
   "execution_count": null,
   "metadata": {},
   "outputs": [],
   "source": []
  }
 ],
 "metadata": {
  "hide_input": false,
  "kernelspec": {
   "display_name": "Python 3",
   "language": "python",
   "name": "python3"
  },
  "language_info": {
   "codemirror_mode": {
    "name": "ipython",
    "version": 3
   },
   "file_extension": ".py",
   "mimetype": "text/x-python",
   "name": "python",
   "nbconvert_exporter": "python",
   "pygments_lexer": "ipython3",
   "version": "3.6.4"
  },
  "toc": {
   "nav_menu": {},
   "number_sections": true,
   "sideBar": true,
   "skip_h1_title": false,
   "toc_cell": false,
   "toc_position": {},
   "toc_section_display": "block",
   "toc_window_display": true
  }
 },
 "nbformat": 4,
 "nbformat_minor": 2
}
