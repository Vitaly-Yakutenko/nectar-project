{
 "cells": [
  {
   "cell_type": "code",
   "execution_count": 2,
   "metadata": {},
   "outputs": [],
   "source": [
    "#twitter _ harvester\n",
    "#from tweet_api import Api \n",
    "\n",
    "from __future__ import division\n",
    "from __future__ import print_function\n",
    "import json\n",
    "import sys\n",
    "import gzip\n",
    "import time\n",
    "import base64\n",
    "import re\n",
    "import logging\n",
    "import requests\n",
    "from requests_oauthlib import OAuth1, OAuth2\n",
    "import io\n",
    "import warnings\n",
    "from uuid import uuid4\n",
    "import os\n",
    "import twitter\n",
    "try:\n",
    "    from urllib.parse import urlparse, urlunparse, urlencode, quote_plus\n",
    "    from urllib.request import __version__ as urllib_version\n",
    "except ImportError:\n",
    "    from urlparse import urlparse, urlunparse\n",
    "    from urllib import urlencode, quote_plus\n",
    "    from urllib import __version__ as urllib_version"
   ]
  },
  {
   "cell_type": "code",
   "execution_count": 3,
   "metadata": {},
   "outputs": [],
   "source": [
    "if sys.version_info > (3,):\n",
    "    long = int  # pylint: disable=invalid-name,redefined-builtin\n",
    "\n",
    "CHARACTER_LIMIT = 280\n",
    "\n",
    "# A singleton representing a lazily instantiated FileCache.\n",
    "DEFAULT_CACHE = object()\n",
    "\n",
    "def stream(self, data):\n",
    "        #print (data)\n",
    "        #f=open(\"results.txt\", \"a+\")\n",
    "        #f.write(data)\n",
    "        #if 'id_str' in data:\n",
    "        #    id = data['id_str']\n",
    "        #    save_twit(id, data)\n",
    "        s = str(data)\n",
    "        json_data = json.loads(s)\n",
    "        #print(json_data)\n",
    "        #for item in json_data:\n",
    "        #print(type(data))\n",
    "        if 'id_str' in json_data:\n",
    "            twit_id = json_data['id_str']\n",
    "            # filter out tweets by id\n",
    "            save_twit(twit_id, data)        \n",
    "        return True\n",
    "\n",
    "def on_error(self, status):\n",
    "    print (status)\n",
    "        \n",
    "def save_twit(twit_id, json_data):\n",
    "    print(twit_id)\n",
    "    filename = '{}.json'.format(twit_id)\n",
    "    with open(filename, 'w',  ) as fp:\n",
    "        \n",
    "        fp.write(json_data)\n",
    "\n",
    "#api = tweepy.API(auth,wait_on_rate_limit=True)"
   ]
  },
  {
   "cell_type": "code",
   "execution_count": 4,
   "metadata": {},
   "outputs": [],
   "source": [
    "api = twitter.Api(consumer_key = \"HZ8dRXtgyMK80v3a5q9j8oT0j\",\n",
    "                  consumer_secret = \"mXgvQQIut5h2Mgb01r9CDEjlGKoHjIclfm531nMDxn0qENXXBd\", \n",
    "                  access_token_key= \"3176271722-nIsvT82qg6FF6UO7PH2UlZuZgram93jo8hRwLWz\", \n",
    "                  access_token_secret= \"x17XFTZuvWYftkuIRq2HjUC9TQZh5YlYURCD2U3tMv08M\",)"
   ]
  },
  {
   "cell_type": "code",
   "execution_count": null,
   "metadata": {},
   "outputs": [
    {
     "name": "stdout",
     "output_type": "stream",
     "text": []
    }
   ],
   "source": [
    "\n",
    "hashtags = ['bitcoin', 'blockchain', 'btc', 'cryptocurrency', \n",
    "                         'crypto','ethereum', 'freebitcoin', 'robotcoingame', 'fintech', 'dogecoin']    \n",
    "stream = api.GetStreamFilter(track=hashtags, locations=[\"111\", \"-44\", \"157\", \"-10\"], languages=['en'])\n",
    "#print([s.text for s in stream])\n",
    "i=0\n",
    "for line in stream:\n",
    "    i=+1\n",
    "    print(line)\n",
    "    if(i == 20):\n",
    "        break"
   ]
  },
  {
   "cell_type": "code",
   "execution_count": 31,
   "metadata": {},
   "outputs": [
    {
     "name": "stdout",
     "output_type": "stream",
     "text": [
      "[\"RT @firefox: Chances are you don't want push notifications from most (any??) sites. . . go ahead and block sites from even asking: https://…\", 'RT @jensimmons: Firefox engineers are working full steam ahead to get Variable Fonts done as well. It’s so great that these massive new CSS…', 'RT @jensimmons: Using CSS Grid to implement the same old 12-column grid designs  is like making a film with a  steadycam — and always stand…', 'RT @awscloud: \"If you like to learn new things, it\\'s a candy store.\" Find out why our Solutions Architects are having so much fun. https://…', 'Join our early #EarthDay celebration this #TMobileTuesdays:\\n\\nFor every tweet today using #TreeMobile, we’ll donate… https://t.co/vwLGnZsYLb', 'https://t.co/39gR50JVMP', 'RT @Bill_Gross: \"Most great entrepreneurial ideas will sound crazy, stupid and uneconomic, and then they\\'ll turn out to be right..\" Reed Ha…', 'RT @Bill_Gross: \"We took a crazy bet on Season 1 of House of Cards for $100m many years ago. It was a big risk. Now we spend more than $8 B…', 'Building Indexable Progressive Web Apps https://t.co/zGzDHAc0Wg via @CustomerThink', 'Why progressive web apps are anything but boring - a retail view from Magento https://t.co/BeK2RAC0pP via @diginomica', 'Cloudflare launches 1.1.1.1 DNS service that will speed up your internet https://t.co/8yhL4UDHkK via @Verge', 'AWS Puts Documentation on GitHub, Solicits Pull Requests -- ADTmag https://t.co/tBbBmtHDoy', 'RT @victorsavkin: New blog post: \"The 3 Skills That Helped Me Become a Better Software Engineer\" @nrwl_io \\nhttps://t.co/arLCvSmi4t', 'As a solo product creator are there any advantages using JS frameworks like React, Angular, Vue etc… https://t.co/JNS4zasgNt', 'Making progressive (web apps) rock for DevOps https://t.co/xbjeuwYycc via @computerweekly', 'https://t.co/c36HuRZce1', 'https://t.co/SioKgZLUBI', 'RT @awscloud: Improve product development, patient care, &amp; org decisions with Next-Gen BI for Healthcare and Life Sciences. https://t.co/tW…', 'New Google Healthcare API Addresses Interoperability Challenges https://t.co/Xgrzmxe84G', '.@united Absolutely disgusting that you forced a family to put their dog in an overhead bin. #ASPCA #DogKiller #UnitedAirlines']\n"
     ]
    }
   ],
   "source": [
    "statuses = api.GetUserTimeline(screen_name=\"Bill\")\n",
    "print([s.text for s in statuses])"
   ]
  },
  {
   "cell_type": "code",
   "execution_count": 22,
   "metadata": {},
   "outputs": [
    {
     "name": "stdout",
     "output_type": "stream",
     "text": [
      "['KANYE WEST', 'Shapr', 'Mandy Menaker', 'Steve Case', 'Envato Tuts+ Web', 'Rachel Andrew', 'Jen Simmons', 'Eric Meyer', 'Victor Savkin', 'Azure Support', 'AWS Support', 'Microsoft Azure', 'GCP @ KubeCon', 'Amazon Web Services', 'JBD — not at Kubecon', 'Yoni Dayan 🚀 startups/VR/AR/games', 'Stephanie Llamas #VR #AR', 'VRChat', 'Rony Abovitz', 'no_barkin', 'USENS INC', 'Virtual Reality Pop', 'Next Reality', 'Google Mobile', 'AI', 'Amy Peck AR/VR 24/7', 'Juliet Brown', 'Dr Julia Shaw', 'Mel Slater', 'Palmer Luckey', 'Enter VR', 'Estella Tse', 'Jessica Outlaw', 'LeapMotion', 'Writer.Moda Ai', 'MariathePilot', 'Pilotmaria', 'Jetsetter Diaries', 'VirtualRealityPlanet', 'Charlie Fink', 'Rikard Steiber', 'Jeremy Dalton', 'John Carmack', 'AltspaceVR', 'Oculus Rift', 'Hugo Barra', 'Danny Bittman', 'Andrew Ng', 'Mar Gonzalez-Franco', 'Augmented Reality', 'Sylvia Xueni Pan', 'marco gillies', 'Built With ARCore', 'City Girl', 'Cathy Hackl #VR #AR #SpatialComputing', 'Amelia Old', 'Clay Bavor', 'Melissa Crooks', 'Google VR', 'Unity', 'VRFocus', \"Sandy Puc'\", 'Bill Gross', 'Valerie Jardin', 'Timothy Post', 'Lindsay Adler', 'Dave Wares', 'Topher Martini', 'Antonio Marques', 'Rod Harlan', 'Ron Niebrugge', 'Richard Harrington', 'Chase Jarvis', 'Andrew Malcolm', 'W. Cary Eberly M.A.', 'Jim Long']\n"
     ]
    }
   ],
   "source": [
    "#To fetch your friends (after being authenticated):\n",
    "users = api.GetFriends(screen_name=\"bill\")\n",
    "print([u.name for u in users])"
   ]
  },
  {
   "cell_type": "code",
   "execution_count": null,
   "metadata": {},
   "outputs": [],
   "source": []
  }
 ],
 "metadata": {
  "kernelspec": {
   "display_name": "Python 3",
   "language": "python",
   "name": "python3"
  },
  "language_info": {
   "codemirror_mode": {
    "name": "ipython",
    "version": 3
   },
   "file_extension": ".py",
   "mimetype": "text/x-python",
   "name": "python",
   "nbconvert_exporter": "python",
   "pygments_lexer": "ipython3",
   "version": "3.6.2"
  }
 },
 "nbformat": 4,
 "nbformat_minor": 2
}
