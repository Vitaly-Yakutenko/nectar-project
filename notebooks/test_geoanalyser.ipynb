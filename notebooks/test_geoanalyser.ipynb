{
 "cells": [
  {
   "cell_type": "code",
   "execution_count": 21,
   "metadata": {},
   "outputs": [],
   "source": [
    "import json\n",
    "import os"
   ]
  },
  {
   "cell_type": "code",
   "execution_count": 22,
   "metadata": {},
   "outputs": [],
   "source": [
    "import pandas as pd"
   ]
  },
  {
   "cell_type": "code",
   "execution_count": 23,
   "metadata": {},
   "outputs": [],
   "source": [
    "df = pd.read_csv('SA2_2016_AUST.csv')"
   ]
  },
  {
   "cell_type": "code",
   "execution_count": 24,
   "metadata": {},
   "outputs": [],
   "source": [
    "columns = ['SA4_CODE_2016', 'SA4_NAME_2016', 'GCCSA_NAME_2016', 'STATE_NAME_2016']"
   ]
  },
  {
   "cell_type": "code",
   "execution_count": 25,
   "metadata": {},
   "outputs": [
    {
     "data": {
      "text/html": [
       "<div>\n",
       "<style>\n",
       "    .dataframe thead tr:only-child th {\n",
       "        text-align: right;\n",
       "    }\n",
       "\n",
       "    .dataframe thead th {\n",
       "        text-align: left;\n",
       "    }\n",
       "\n",
       "    .dataframe tbody tr th {\n",
       "        vertical-align: top;\n",
       "    }\n",
       "</style>\n",
       "<table border=\"1\" class=\"dataframe\">\n",
       "  <thead>\n",
       "    <tr style=\"text-align: right;\">\n",
       "      <th></th>\n",
       "      <th>SA4_NAME_2016</th>\n",
       "      <th>GCCSA_NAME_2016</th>\n",
       "      <th>STATE_NAME_2016</th>\n",
       "    </tr>\n",
       "    <tr>\n",
       "      <th>SA4_CODE_2016</th>\n",
       "      <th></th>\n",
       "      <th></th>\n",
       "      <th></th>\n",
       "    </tr>\n",
       "  </thead>\n",
       "  <tbody>\n",
       "    <tr>\n",
       "      <th>101</th>\n",
       "      <td>Capital Region</td>\n",
       "      <td>Rest of NSW</td>\n",
       "      <td>New South Wales</td>\n",
       "    </tr>\n",
       "    <tr>\n",
       "      <th>102</th>\n",
       "      <td>Central Coast</td>\n",
       "      <td>Greater Sydney</td>\n",
       "      <td>New South Wales</td>\n",
       "    </tr>\n",
       "    <tr>\n",
       "      <th>103</th>\n",
       "      <td>Central West</td>\n",
       "      <td>Rest of NSW</td>\n",
       "      <td>New South Wales</td>\n",
       "    </tr>\n",
       "    <tr>\n",
       "      <th>104</th>\n",
       "      <td>Coffs Harbour - Grafton</td>\n",
       "      <td>Rest of NSW</td>\n",
       "      <td>New South Wales</td>\n",
       "    </tr>\n",
       "    <tr>\n",
       "      <th>105</th>\n",
       "      <td>Far West and Orana</td>\n",
       "      <td>Rest of NSW</td>\n",
       "      <td>New South Wales</td>\n",
       "    </tr>\n",
       "  </tbody>\n",
       "</table>\n",
       "</div>"
      ],
      "text/plain": [
       "                         SA4_NAME_2016 GCCSA_NAME_2016  STATE_NAME_2016\n",
       "SA4_CODE_2016                                                          \n",
       "101                     Capital Region     Rest of NSW  New South Wales\n",
       "102                      Central Coast  Greater Sydney  New South Wales\n",
       "103                       Central West     Rest of NSW  New South Wales\n",
       "104            Coffs Harbour - Grafton     Rest of NSW  New South Wales\n",
       "105                 Far West and Orana     Rest of NSW  New South Wales"
      ]
     },
     "execution_count": 25,
     "metadata": {},
     "output_type": "execute_result"
    }
   ],
   "source": [
    "mappings_df = df[columns].drop_duplicates().set_index('SA4_CODE_2016')\n",
    "mappings_df.head()"
   ]
  },
  {
   "cell_type": "code",
   "execution_count": 26,
   "metadata": {},
   "outputs": [
    {
     "data": {
      "text/plain": [
       "GCCSA_NAME_2016        Rest of NSW\n",
       "STATE_NAME_2016    New South Wales\n",
       "Name: 101, dtype: object"
      ]
     },
     "execution_count": 26,
     "metadata": {},
     "output_type": "execute_result"
    }
   ],
   "source": [
    "mappings_df.loc[101,['GCCSA_NAME_2016', 'STATE_NAME_2016']]"
   ]
  },
  {
   "cell_type": "code",
   "execution_count": 27,
   "metadata": {},
   "outputs": [
    {
     "data": {
      "text/plain": [
       "'Rest of NSW'"
      ]
     },
     "execution_count": 27,
     "metadata": {},
     "output_type": "execute_result"
    }
   ],
   "source": [
    "mappings_df.loc[101]['GCCSA_NAME_2016']"
   ]
  },
  {
   "cell_type": "markdown",
   "metadata": {},
   "source": []
  },
  {
   "cell_type": "code",
   "execution_count": 28,
   "metadata": {},
   "outputs": [],
   "source": [
    "with open('/Users/hima95/Downloads/Output__spatialise-dataset_Apr-25_11_04-2/data3159033140009759250.json', 'r') as fp:\n",
    "    data = json.load(fp)"
   ]
  },
  {
   "cell_type": "code",
   "execution_count": 29,
   "metadata": {},
   "outputs": [
    {
     "data": {
      "text/plain": [
       "dict_keys(['type', 'crs', 'features'])"
      ]
     },
     "execution_count": 29,
     "metadata": {},
     "output_type": "execute_result"
    }
   ],
   "source": [
    "data.keys()"
   ]
  },
  {
   "cell_type": "code",
   "execution_count": 30,
   "metadata": {},
   "outputs": [],
   "source": [
    "features = data['features']"
   ]
  },
  {
   "cell_type": "code",
   "execution_count": 31,
   "metadata": {},
   "outputs": [
    {
     "data": {
      "text/plain": [
       "89"
      ]
     },
     "execution_count": 31,
     "metadata": {},
     "output_type": "execute_result"
    }
   ],
   "source": [
    "len(features)"
   ]
  },
  {
   "cell_type": "code",
   "execution_count": 32,
   "metadata": {},
   "outputs": [
    {
     "data": {
      "text/plain": [
       "dict_keys(['type', 'geometry', 'properties', 'id'])"
      ]
     },
     "execution_count": 32,
     "metadata": {},
     "output_type": "execute_result"
    }
   ],
   "source": [
    "features[0].keys()"
   ]
  },
  {
   "cell_type": "code",
   "execution_count": 33,
   "metadata": {},
   "outputs": [
    {
     "data": {
      "text/plain": [
       "{'feature_code': '105',\n",
       " 'feature_name': 'Far West and Orana',\n",
       " 'median_age_persons': 41,\n",
       " 'median_tot_hhd_inc_weekly': 1106,\n",
       " 'median_tot_prsnl_inc_weekly': 594,\n",
       " 'sa4_code16': '105',\n",
       " 'sa4_name16': 'Far West and Orana'}"
      ]
     },
     "execution_count": 33,
     "metadata": {},
     "output_type": "execute_result"
    }
   ],
   "source": [
    "features[4]['properties']"
   ]
  },
  {
   "cell_type": "code",
   "execution_count": 34,
   "metadata": {},
   "outputs": [
    {
     "name": "stdout",
     "output_type": "stream",
     "text": [
      "0 \t Capital Region \t 109\n",
      "1 \t Central Coast \t 4\n",
      "2 \t Central West \t 1\n",
      "3 \t Coffs Harbour - Grafton \t 26\n",
      "4 \t Far West and Orana \t 1\n",
      "5 \t Hunter Valley exc Newcastle \t 42\n",
      "6 \t Illawarra \t 7\n",
      "7 \t Mid North Coast \t 40\n",
      "8 \t Murray \t 1\n",
      "9 \t New England and North West \t 1\n",
      "10 \t Newcastle and Lake Macquarie \t 7\n",
      "11 \t Richmond - Tweed \t 9\n",
      "12 \t Riverina \t 1\n",
      "13 \t Southern Highlands and Shoalhaven \t 4\n",
      "14 \t Sydney - Baulkham Hills and Hawkesbury \t 2\n",
      "15 \t Sydney - Blacktown \t 1\n",
      "16 \t Sydney - City and Inner South \t 3\n",
      "17 \t Sydney - Eastern Suburbs \t 5\n",
      "18 \t Sydney - Inner South West \t 1\n",
      "19 \t Sydney - Inner West \t 2\n",
      "20 \t Sydney - North Sydney and Hornsby \t 3\n",
      "21 \t Sydney - Northern Beaches \t 3\n",
      "22 \t Sydney - Outer South West \t 1\n",
      "23 \t Sydney - Outer West and Blue Mountains \t 1\n",
      "24 \t Sydney - Parramatta \t 1\n",
      "25 \t Sydney - Ryde \t 1\n",
      "26 \t Sydney - South West \t 1\n",
      "27 \t Sydney - Sutherland \t 1\n",
      "28 \t Ballarat \t 1\n",
      "29 \t Bendigo \t 1\n",
      "30 \t Geelong \t 5\n",
      "31 \t Hume \t 1\n",
      "32 \t Latrobe - Gippsland \t 108\n",
      "33 \t Melbourne - Inner \t 1\n",
      "34 \t Melbourne - Inner East \t 1\n",
      "35 \t Melbourne - Inner South \t 1\n",
      "36 \t Melbourne - North East \t 1\n",
      "37 \t Melbourne - North West \t 1\n",
      "38 \t Melbourne - Outer East \t 1\n",
      "39 \t Melbourne - South East \t 1\n",
      "40 \t Melbourne - West \t 1\n",
      "41 \t Mornington Peninsula \t 24\n",
      "42 \t North West \t 1\n",
      "43 \t Shepparton \t 1\n",
      "44 \t Warrnambool and South West \t 23\n",
      "45 \t Brisbane - East \t 21\n",
      "46 \t Brisbane - North \t 1\n",
      "47 \t Brisbane - South \t 1\n",
      "48 \t Brisbane - West \t 3\n",
      "49 \t Brisbane Inner City \t 2\n",
      "50 \t Cairns \t 55\n",
      "51 \t Darling Downs - Maranoa \t 1\n",
      "52 \t Central Queensland \t 234\n",
      "53 \t Gold Coast \t 46\n",
      "54 \t Ipswich \t 1\n",
      "55 \t Logan - Beaudesert \t 1\n",
      "56 \t Mackay - Isaac - Whitsunday \t 239\n",
      "57 \t Moreton Bay - North \t 13\n",
      "58 \t Moreton Bay - South \t 1\n",
      "59 \t Queensland - Outback \t 380\n",
      "60 \t Sunshine Coast \t 17\n",
      "61 \t Toowoomba \t 1\n",
      "62 \t Townsville \t 24\n",
      "63 \t Wide Bay \t 116\n",
      "64 \t Adelaide - Central and Hills \t 1\n",
      "65 \t Adelaide - North \t 1\n",
      "66 \t Adelaide - South \t 1\n",
      "67 \t Adelaide - West \t 4\n",
      "68 \t Barossa - Yorke - Mid North \t 29\n",
      "69 \t South Australia - Outback \t 136\n",
      "70 \t South Australia - South East \t 56\n",
      "71 \t Bunbury \t 139\n",
      "72 \t Mandurah \t 5\n",
      "73 \t Perth - Inner \t 1\n",
      "74 \t Perth - North East \t 1\n",
      "75 \t Perth - North West \t 1\n",
      "76 \t Perth - South East \t 1\n",
      "77 \t Perth - South West \t 12\n",
      "78 \t Western Australia - Wheat Belt \t 79\n",
      "79 \t Western Australia - Outback (North) \t 1851\n",
      "80 \t Western Australia - Outback (South) \t 526\n",
      "81 \t Hobart \t 69\n",
      "82 \t Launceston and North East \t 160\n",
      "83 \t South East \t 327\n",
      "84 \t West and North West \t 1368\n",
      "85 \t Darwin \t 15\n",
      "86 \t Northern Territory - Outback \t 237\n",
      "87 \t Australian Capital Territory \t 1\n",
      "88 \t Other Territories \t 91\n"
     ]
    }
   ],
   "source": [
    "for i in range(len(features)):\n",
    "    \n",
    "    print(i,'\\t',features[i]['properties']['feature_name'] ,'\\t',len(features[i]['geometry']['coordinates']))\n"
   ]
  },
  {
   "cell_type": "code",
   "execution_count": 35,
   "metadata": {},
   "outputs": [],
   "source": [
    "from shapely.geometry import Point, Polygon"
   ]
  },
  {
   "cell_type": "code",
   "execution_count": 40,
   "metadata": {},
   "outputs": [],
   "source": [
    "def geo_check(input_polygon):\n",
    "    \n",
    "    input_polygon = [input_polygon]\n",
    "    if len(input_polygon)==1:\n",
    "        pnt = Point(input_polygon[0])\n",
    "        \n",
    "    if len(input_polygon)>1:\n",
    "        coordinate_polygon = Polygon(input_polygon)\n",
    "        pnt = Point(coordinate_polygon.centriod)\n",
    "        \n",
    "    for i in range(len(features)):\n",
    "        for j in range(len(features[i]['geometry']['coordinates'])):\n",
    "     \n",
    "            poly = Polygon(features[i]['geometry']['coordinates'][j][0])\n",
    "            idx = int(features[i]['properties']['sa4_code16'])\n",
    "            \n",
    "            if pnt.within(poly):\n",
    "                return {'SA4_name':features[i]['properties']['feature_name'],\n",
    "                        'SA4_code':idx,\n",
    "                        'GCCSA_name':mappings_df.loc[idx]['GCCSA_NAME_2016'],\n",
    "                        'State_name':mappings_df.loc[idx]['STATE_NAME_2016']}\n",
    "                break\n",
    "            \n",
    "            if poly.contains(pnt):\n",
    "                return {'SA4_name':features[i]['properties']['feature_name'],\n",
    "                        'SA4_code':idx,\n",
    "                        'GCCSA_name':mappings_df.loc[idx]['GCCSA_NAME_2016'],\n",
    "                        'State_name':mappings_df.loc[idx]['STATE_NAME_2016']}\n",
    "                break\n",
    "            "
   ]
  },
  {
   "cell_type": "code",
   "execution_count": 41,
   "metadata": {},
   "outputs": [
    {
     "name": "stdout",
     "output_type": "stream",
     "text": [
      "{'SA4_name': 'Sydney - City and Inner South', 'SA4_code': 117, 'GCCSA_name': 'Greater Sydney', 'State_name': 'New South Wales'}\n"
     ]
    }
   ],
   "source": [
    "print(geo_check([151.19981289, -33.87429942]))"
   ]
  },
  {
   "cell_type": "code",
   "execution_count": null,
   "metadata": {},
   "outputs": [],
   "source": []
  },
  {
   "cell_type": "code",
   "execution_count": null,
   "metadata": {},
   "outputs": [],
   "source": []
  }
 ],
 "metadata": {
  "kernelspec": {
   "display_name": "Python 3",
   "language": "python",
   "name": "python3"
  },
  "language_info": {
   "codemirror_mode": {
    "name": "ipython",
    "version": 3
   },
   "file_extension": ".py",
   "mimetype": "text/x-python",
   "name": "python",
   "nbconvert_exporter": "python",
   "pygments_lexer": "ipython3",
   "version": "3.6.3"
  }
 },
 "nbformat": 4,
 "nbformat_minor": 2
}
