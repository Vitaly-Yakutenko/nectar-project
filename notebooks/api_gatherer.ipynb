{
 "cells": [
  {
   "cell_type": "code",
   "execution_count": null,
   "metadata": {},
   "outputs": [],
   "source": [
    "from glob import glob\n",
    "import json\n",
    "import yaml\n",
    "import os\n",
    "import time\n",
    "import tweepy\n",
    "os.chdir('../')\n",
    "\n",
    "with open(\"config.yaml\", 'r') as ymlfile:\n",
    "    cfg = yaml.load(ymlfile)\n",
    "    ymlfile.close()\n",
    "\n",
    "twitter_cfg = cfg['TWEETER']\n",
    "queues_cfg = cfg['QUEUES']\n",
    "users_tasks_path = queues_cfg['user_tweets_tasks']\n",
    "new_tweets_queue = queues_cfg['new_tweets']"
   ]
  },
  {
   "cell_type": "markdown",
   "metadata": {},
   "source": [
    "# Process Users Queue"
   ]
  },
  {
   "cell_type": "code",
   "execution_count": null,
   "metadata": {},
   "outputs": [],
   "source": [
    "auth = tweepy.OAuthHandler(twitter_cfg['consumer_key'], twitter_cfg['consumer_secret'])\n",
    "auth.set_access_token(twitter_cfg['access_token'], twitter_cfg['access_token_secret'])\n",
    "api = tweepy.API(auth)\n",
    "\n",
    "i = 1\n",
    "while True:\n",
    "    unprocessed_users = glob('{}/*.txt'.format(users_tasks_path))[:100]\n",
    "    for path in unprocessed_users:\n",
    "        try:\n",
    "            with open(path, 'r') as fp:\n",
    "                user_id = json.load(fp)\n",
    "                response = api.user_timeline(user_id=user_id, count=1000, include_rts = True)\n",
    "                for item in response:\n",
    "                    try:\n",
    "                        tweet_id = item._json['id_str']\n",
    "                        data = str(item._json)\n",
    "                        filename = '{}/{}.json'.format(new_tweets_queue, tweet_id)\n",
    "                        with open(filename, 'w') as tweet_fp:\n",
    "                            json.dump(item._json, tweet_fp)\n",
    "                        print('Tweet {} was successfully queued to {}'.format(tweet_id, filename))\n",
    "                    except Exception as e:\n",
    "                        print('Tweet from user {} wasn\\'t processed due to an error: {}'.format(user_id, e))\n",
    "                time.sleep(1)\n",
    "                fp.close()\n",
    "            os.remove(path)\n",
    "        except Exception as e:\n",
    "            print('Enexpected Error: {}'.format(e))\n",
    "            \n",
    "    print('Iteration: {}\\tFiles processed: {}'.format(i, len(unprocessed_users)))\n",
    "    i+=1\n",
    "    time.sleep(1)\n",
    "    "
   ]
  },
  {
   "cell_type": "code",
   "execution_count": null,
   "metadata": {},
   "outputs": [],
   "source": []
  },
  {
   "cell_type": "code",
   "execution_count": null,
   "metadata": {},
   "outputs": [],
   "source": []
  }
 ],
 "metadata": {
  "kernelspec": {
   "display_name": "Python 3",
   "language": "python",
   "name": "python3"
  },
  "language_info": {
   "codemirror_mode": {
    "name": "ipython",
    "version": 3
   },
   "file_extension": ".py",
   "mimetype": "text/x-python",
   "name": "python",
   "nbconvert_exporter": "python",
   "pygments_lexer": "ipython3",
   "version": "3.6.2"
  }
 },
 "nbformat": 4,
 "nbformat_minor": 1
}
