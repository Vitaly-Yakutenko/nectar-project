{
 "cells": [
  {
   "cell_type": "code",
   "execution_count": 14,
   "metadata": {},
   "outputs": [],
   "source": [
    "import json\n",
    "import os"
   ]
  },
  {
   "cell_type": "code",
   "execution_count": 15,
   "metadata": {},
   "outputs": [],
   "source": [
    "with open('/Users/hima95/Downloads/Output__spatialise-dataset_Apr-25_11_04-2/data3159033140009759250.json', 'r') as fp:\n",
    "    data = json.load(fp)"
   ]
  },
  {
   "cell_type": "code",
   "execution_count": 16,
   "metadata": {},
   "outputs": [
    {
     "data": {
      "text/plain": [
       "dict_keys(['type', 'crs', 'features'])"
      ]
     },
     "execution_count": 16,
     "metadata": {},
     "output_type": "execute_result"
    }
   ],
   "source": [
    "data.keys()"
   ]
  },
  {
   "cell_type": "code",
   "execution_count": 17,
   "metadata": {},
   "outputs": [],
   "source": [
    "features = data['features']"
   ]
  },
  {
   "cell_type": "code",
   "execution_count": 18,
   "metadata": {},
   "outputs": [
    {
     "data": {
      "text/plain": [
       "89"
      ]
     },
     "execution_count": 18,
     "metadata": {},
     "output_type": "execute_result"
    }
   ],
   "source": [
    "len(features)"
   ]
  },
  {
   "cell_type": "code",
   "execution_count": 19,
   "metadata": {},
   "outputs": [
    {
     "data": {
      "text/plain": [
       "dict_keys(['type', 'geometry', 'properties', 'id'])"
      ]
     },
     "execution_count": 19,
     "metadata": {},
     "output_type": "execute_result"
    }
   ],
   "source": [
    "features[0].keys()"
   ]
  },
  {
   "cell_type": "code",
   "execution_count": 20,
   "metadata": {},
   "outputs": [
    {
     "data": {
      "text/plain": [
       "{'feature_code': '105',\n",
       " 'feature_name': 'Far West and Orana',\n",
       " 'median_age_persons': 41,\n",
       " 'median_tot_hhd_inc_weekly': 1106,\n",
       " 'median_tot_prsnl_inc_weekly': 594,\n",
       " 'sa4_code16': '105',\n",
       " 'sa4_name16': 'Far West and Orana'}"
      ]
     },
     "execution_count": 20,
     "metadata": {},
     "output_type": "execute_result"
    }
   ],
   "source": [
    "features[4]['properties']"
   ]
  },
  {
   "cell_type": "code",
   "execution_count": 21,
   "metadata": {},
   "outputs": [
    {
     "name": "stdout",
     "output_type": "stream",
     "text": [
      "0 \t Capital Region \t 109\n",
      "1 \t Central Coast \t 4\n",
      "2 \t Central West \t 1\n",
      "3 \t Coffs Harbour - Grafton \t 26\n",
      "4 \t Far West and Orana \t 1\n",
      "5 \t Hunter Valley exc Newcastle \t 42\n",
      "6 \t Illawarra \t 7\n",
      "7 \t Mid North Coast \t 40\n",
      "8 \t Murray \t 1\n",
      "9 \t New England and North West \t 1\n",
      "10 \t Newcastle and Lake Macquarie \t 7\n",
      "11 \t Richmond - Tweed \t 9\n",
      "12 \t Riverina \t 1\n",
      "13 \t Southern Highlands and Shoalhaven \t 4\n",
      "14 \t Sydney - Baulkham Hills and Hawkesbury \t 2\n",
      "15 \t Sydney - Blacktown \t 1\n",
      "16 \t Sydney - City and Inner South \t 3\n",
      "17 \t Sydney - Eastern Suburbs \t 5\n",
      "18 \t Sydney - Inner South West \t 1\n",
      "19 \t Sydney - Inner West \t 2\n",
      "20 \t Sydney - North Sydney and Hornsby \t 3\n",
      "21 \t Sydney - Northern Beaches \t 3\n",
      "22 \t Sydney - Outer South West \t 1\n",
      "23 \t Sydney - Outer West and Blue Mountains \t 1\n",
      "24 \t Sydney - Parramatta \t 1\n",
      "25 \t Sydney - Ryde \t 1\n",
      "26 \t Sydney - South West \t 1\n",
      "27 \t Sydney - Sutherland \t 1\n",
      "28 \t Ballarat \t 1\n",
      "29 \t Bendigo \t 1\n",
      "30 \t Geelong \t 5\n",
      "31 \t Hume \t 1\n",
      "32 \t Latrobe - Gippsland \t 108\n",
      "33 \t Melbourne - Inner \t 1\n",
      "34 \t Melbourne - Inner East \t 1\n",
      "35 \t Melbourne - Inner South \t 1\n",
      "36 \t Melbourne - North East \t 1\n",
      "37 \t Melbourne - North West \t 1\n",
      "38 \t Melbourne - Outer East \t 1\n",
      "39 \t Melbourne - South East \t 1\n",
      "40 \t Melbourne - West \t 1\n",
      "41 \t Mornington Peninsula \t 24\n",
      "42 \t North West \t 1\n",
      "43 \t Shepparton \t 1\n",
      "44 \t Warrnambool and South West \t 23\n",
      "45 \t Brisbane - East \t 21\n",
      "46 \t Brisbane - North \t 1\n",
      "47 \t Brisbane - South \t 1\n",
      "48 \t Brisbane - West \t 3\n",
      "49 \t Brisbane Inner City \t 2\n",
      "50 \t Cairns \t 55\n",
      "51 \t Darling Downs - Maranoa \t 1\n",
      "52 \t Central Queensland \t 234\n",
      "53 \t Gold Coast \t 46\n",
      "54 \t Ipswich \t 1\n",
      "55 \t Logan - Beaudesert \t 1\n",
      "56 \t Mackay - Isaac - Whitsunday \t 239\n",
      "57 \t Moreton Bay - North \t 13\n",
      "58 \t Moreton Bay - South \t 1\n",
      "59 \t Queensland - Outback \t 380\n",
      "60 \t Sunshine Coast \t 17\n",
      "61 \t Toowoomba \t 1\n",
      "62 \t Townsville \t 24\n",
      "63 \t Wide Bay \t 116\n",
      "64 \t Adelaide - Central and Hills \t 1\n",
      "65 \t Adelaide - North \t 1\n",
      "66 \t Adelaide - South \t 1\n",
      "67 \t Adelaide - West \t 4\n",
      "68 \t Barossa - Yorke - Mid North \t 29\n",
      "69 \t South Australia - Outback \t 136\n",
      "70 \t South Australia - South East \t 56\n",
      "71 \t Bunbury \t 139\n",
      "72 \t Mandurah \t 5\n",
      "73 \t Perth - Inner \t 1\n",
      "74 \t Perth - North East \t 1\n",
      "75 \t Perth - North West \t 1\n",
      "76 \t Perth - South East \t 1\n",
      "77 \t Perth - South West \t 12\n",
      "78 \t Western Australia - Wheat Belt \t 79\n",
      "79 \t Western Australia - Outback (North) \t 1851\n",
      "80 \t Western Australia - Outback (South) \t 526\n",
      "81 \t Hobart \t 69\n",
      "82 \t Launceston and North East \t 160\n",
      "83 \t South East \t 327\n",
      "84 \t West and North West \t 1368\n",
      "85 \t Darwin \t 15\n",
      "86 \t Northern Territory - Outback \t 237\n",
      "87 \t Australian Capital Territory \t 1\n",
      "88 \t Other Territories \t 91\n"
     ]
    }
   ],
   "source": [
    "for i in range(len(features)):\n",
    "    \n",
    "    print(i,'\\t',features[i]['properties']['feature_name'] ,'\\t',len(features[i]['geometry']['coordinates']))\n"
   ]
  },
  {
   "cell_type": "code",
   "execution_count": 22,
   "metadata": {},
   "outputs": [],
   "source": [
    "from shapely.geometry import Point, Polygon"
   ]
  },
  {
   "cell_type": "code",
   "execution_count": 44,
   "metadata": {},
   "outputs": [],
   "source": [
    "def geo_check(input_polygon):\n",
    "    \n",
    "    input_polygon = [input_polygon]\n",
    "    if len(input_polygon)==1:\n",
    "        pnt = Point(input_polygon[0])\n",
    "        \n",
    "    if len(input_polygon)>1:\n",
    "        coordinate_polygon = Polygon(input_polygon)\n",
    "        pnt = Point(coordinate_polygon.centriod)\n",
    "        \n",
    "    for i in range(len(features)):\n",
    "        for j in range(len(features[i]['geometry']['coordinates'])):\n",
    "     \n",
    "            poly = Polygon(features[i]['geometry']['coordinates'][j][0])\n",
    "            \n",
    "            if pnt.within(poly):\n",
    "                return {'SA4_name':features[i]['properties']['feature_name'],'SA4_code':features[i]['properties']['sa4_code16']}\n",
    "                break\n",
    "            \n",
    "            if poly.contains(pnt):\n",
    "                return {'SA4_name':features[i]['properties']['feature_name'],'SA4_code':features[i]['properties']['sa4_code16']}\n",
    "                break\n",
    "            "
   ]
  },
  {
   "cell_type": "code",
   "execution_count": 46,
   "metadata": {},
   "outputs": [
    {
     "name": "stdout",
     "output_type": "stream",
     "text": [
      "{'SA4_name': 'Western Australia - Outback (North)', 'SA4_code': '510'}\n"
     ]
    }
   ],
   "source": [
    "print(geo_check([124.39229201049999, -15.3314680084999]))"
   ]
  },
  {
   "cell_type": "code",
   "execution_count": 26,
   "metadata": {},
   "outputs": [
    {
     "data": {
      "image/svg+xml": [
       "<svg xmlns=\"http://www.w3.org/2000/svg\" xmlns:xlink=\"http://www.w3.org/1999/xlink\" width=\"100.0\" height=\"100.0\" viewBox=\"151.07440848600004 -28.659493373999947 2.0 2.0\" preserveAspectRatio=\"xMinYMin meet\"><g transform=\"matrix(1,0,0,-1,0,-55.318986747999894)\"><circle cx=\"152.07440848600004\" cy=\"-27.659493373999947\" r=\"0.06\" stroke=\"#555555\" stroke-width=\"0.02\" fill=\"#66cc99\" opacity=\"0.6\" /></g></svg>"
      ],
      "text/plain": [
       "<shapely.geometry.point.Point at 0x1364965f8>"
      ]
     },
     "execution_count": 26,
     "metadata": {},
     "output_type": "execute_result"
    }
   ],
   "source": []
  },
  {
   "cell_type": "code",
   "execution_count": null,
   "metadata": {},
   "outputs": [],
   "source": []
  }
 ],
 "metadata": {
  "kernelspec": {
   "display_name": "Python 3",
   "language": "python",
   "name": "python3"
  },
  "language_info": {
   "codemirror_mode": {
    "name": "ipython",
    "version": 3
   },
   "file_extension": ".py",
   "mimetype": "text/x-python",
   "name": "python",
   "nbconvert_exporter": "python",
   "pygments_lexer": "ipython3",
   "version": "3.6.3"
  }
 },
 "nbformat": 4,
 "nbformat_minor": 2
}
