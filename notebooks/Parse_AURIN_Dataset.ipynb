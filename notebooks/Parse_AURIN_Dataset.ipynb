{
 "cells": [
  {
   "cell_type": "code",
   "execution_count": 20,
   "metadata": {},
   "outputs": [],
   "source": [
    "import json\n",
    "import os"
   ]
  },
  {
   "cell_type": "code",
   "execution_count": null,
   "metadata": {},
   "outputs": [],
   "source": [
    "\n",
    "    "
   ]
  },
  {
   "cell_type": "code",
   "execution_count": 21,
   "metadata": {},
   "outputs": [],
   "source": [
    "with open('/Users/hima95/Downloads/Output__spatialise-dataset_Apr-25_11_04-2/data3159033140009759250.json', 'r') as fp:\n",
    "    data = json.load(fp)"
   ]
  },
  {
   "cell_type": "code",
   "execution_count": 22,
   "metadata": {},
   "outputs": [
    {
     "data": {
      "text/plain": [
       "dict_keys(['type', 'crs', 'features'])"
      ]
     },
     "execution_count": 22,
     "metadata": {},
     "output_type": "execute_result"
    }
   ],
   "source": [
    "data.keys()"
   ]
  },
  {
   "cell_type": "code",
   "execution_count": 23,
   "metadata": {},
   "outputs": [],
   "source": [
    "features = data['features']"
   ]
  },
  {
   "cell_type": "code",
   "execution_count": 24,
   "metadata": {},
   "outputs": [
    {
     "data": {
      "text/plain": [
       "89"
      ]
     },
     "execution_count": 24,
     "metadata": {},
     "output_type": "execute_result"
    }
   ],
   "source": [
    "len(features)"
   ]
  },
  {
   "cell_type": "code",
   "execution_count": 25,
   "metadata": {},
   "outputs": [
    {
     "data": {
      "text/plain": [
       "dict_keys(['type', 'geometry', 'properties', 'id'])"
      ]
     },
     "execution_count": 25,
     "metadata": {},
     "output_type": "execute_result"
    }
   ],
   "source": [
    "features[0].keys()"
   ]
  },
  {
   "cell_type": "code",
   "execution_count": 26,
   "metadata": {},
   "outputs": [
    {
     "data": {
      "text/plain": [
       "{'feature_code': '101',\n",
       " 'feature_name': 'Capital Region',\n",
       " 'median_age_persons': 44,\n",
       " 'median_tot_hhd_inc_weekly': 1235,\n",
       " 'median_tot_prsnl_inc_weekly': 676,\n",
       " 'sa4_code16': '101',\n",
       " 'sa4_name16': 'Capital Region'}"
      ]
     },
     "execution_count": 26,
     "metadata": {},
     "output_type": "execute_result"
    }
   ],
   "source": [
    "features[0]['properties']"
   ]
  },
  {
   "cell_type": "code",
   "execution_count": 27,
   "metadata": {},
   "outputs": [
    {
     "name": "stdout",
     "output_type": "stream",
     "text": [
      "[['101', 'Capital Region'], ['102', 'Central Coast'], ['103', 'Central West'], ['104', 'Coffs Harbour - Grafton'], ['105', 'Far West and Orana'], ['106', 'Hunter Valley exc Newcastle'], ['107', 'Illawarra'], ['108', 'Mid North Coast'], ['109', 'Murray'], ['110', 'New England and North West'], ['111', 'Newcastle and Lake Macquarie'], ['112', 'Richmond - Tweed'], ['113', 'Riverina'], ['114', 'Southern Highlands and Shoalhaven'], ['115', 'Sydney - Baulkham Hills and Hawkesbury'], ['116', 'Sydney - Blacktown'], ['117', 'Sydney - City and Inner South'], ['118', 'Sydney - Eastern Suburbs'], ['119', 'Sydney - Inner South West'], ['120', 'Sydney - Inner West'], ['121', 'Sydney - North Sydney and Hornsby'], ['122', 'Sydney - Northern Beaches'], ['123', 'Sydney - Outer South West'], ['124', 'Sydney - Outer West and Blue Mountains'], ['125', 'Sydney - Parramatta'], ['126', 'Sydney - Ryde'], ['127', 'Sydney - South West'], ['128', 'Sydney - Sutherland'], ['201', 'Ballarat'], ['202', 'Bendigo'], ['203', 'Geelong'], ['204', 'Hume'], ['205', 'Latrobe - Gippsland'], ['206', 'Melbourne - Inner'], ['207', 'Melbourne - Inner East'], ['208', 'Melbourne - Inner South'], ['209', 'Melbourne - North East'], ['210', 'Melbourne - North West'], ['211', 'Melbourne - Outer East'], ['212', 'Melbourne - South East'], ['213', 'Melbourne - West'], ['214', 'Mornington Peninsula'], ['215', 'North West'], ['216', 'Shepparton'], ['217', 'Warrnambool and South West'], ['301', 'Brisbane - East'], ['302', 'Brisbane - North'], ['303', 'Brisbane - South'], ['304', 'Brisbane - West'], ['305', 'Brisbane Inner City'], ['306', 'Cairns'], ['307', 'Darling Downs - Maranoa'], ['308', 'Central Queensland'], ['309', 'Gold Coast'], ['310', 'Ipswich'], ['311', 'Logan - Beaudesert'], ['312', 'Mackay - Isaac - Whitsunday'], ['313', 'Moreton Bay - North'], ['314', 'Moreton Bay - South'], ['315', 'Queensland - Outback'], ['316', 'Sunshine Coast'], ['317', 'Toowoomba'], ['318', 'Townsville'], ['319', 'Wide Bay'], ['401', 'Adelaide - Central and Hills'], ['402', 'Adelaide - North'], ['403', 'Adelaide - South'], ['404', 'Adelaide - West'], ['405', 'Barossa - Yorke - Mid North'], ['406', 'South Australia - Outback'], ['407', 'South Australia - South East'], ['501', 'Bunbury'], ['502', 'Mandurah'], ['503', 'Perth - Inner'], ['504', 'Perth - North East'], ['505', 'Perth - North West'], ['506', 'Perth - South East'], ['507', 'Perth - South West'], ['509', 'Western Australia - Wheat Belt'], ['510', 'Western Australia - Outback (North)'], ['511', 'Western Australia - Outback (South)'], ['601', 'Hobart'], ['602', 'Launceston and North East'], ['603', 'South East'], ['604', 'West and North West'], ['701', 'Darwin'], ['702', 'Northern Territory - Outback'], ['801', 'Australian Capital Territory'], ['901', 'Other Territories']]\n"
     ]
    }
   ],
   "source": [
    "SA_4 = []\n",
    "for i in range(len(features)):\n",
    "    \n",
    "    SA_4.append([features[i]['properties']['sa4_code16'],features[i]['properties']['sa4_name16']])\n",
    "\n",
    "print(SA_4)\n",
    "\n",
    "    "
   ]
  },
  {
   "cell_type": "code",
   "execution_count": 28,
   "metadata": {},
   "outputs": [
    {
     "name": "stdout",
     "output_type": "stream",
     "text": [
      "0 \t Capital Region \t 109\n",
      "1 \t Central Coast \t 4\n",
      "2 \t Central West \t 1\n",
      "3 \t Coffs Harbour - Grafton \t 26\n",
      "4 \t Far West and Orana \t 1\n",
      "5 \t Hunter Valley exc Newcastle \t 42\n",
      "6 \t Illawarra \t 7\n",
      "7 \t Mid North Coast \t 40\n",
      "8 \t Murray \t 1\n",
      "9 \t New England and North West \t 1\n",
      "10 \t Newcastle and Lake Macquarie \t 7\n",
      "11 \t Richmond - Tweed \t 9\n",
      "12 \t Riverina \t 1\n",
      "13 \t Southern Highlands and Shoalhaven \t 4\n",
      "14 \t Sydney - Baulkham Hills and Hawkesbury \t 2\n",
      "15 \t Sydney - Blacktown \t 1\n",
      "16 \t Sydney - City and Inner South \t 3\n",
      "17 \t Sydney - Eastern Suburbs \t 5\n",
      "18 \t Sydney - Inner South West \t 1\n",
      "19 \t Sydney - Inner West \t 2\n",
      "20 \t Sydney - North Sydney and Hornsby \t 3\n",
      "21 \t Sydney - Northern Beaches \t 3\n",
      "22 \t Sydney - Outer South West \t 1\n",
      "23 \t Sydney - Outer West and Blue Mountains \t 1\n",
      "24 \t Sydney - Parramatta \t 1\n",
      "25 \t Sydney - Ryde \t 1\n",
      "26 \t Sydney - South West \t 1\n",
      "27 \t Sydney - Sutherland \t 1\n",
      "28 \t Ballarat \t 1\n",
      "29 \t Bendigo \t 1\n",
      "30 \t Geelong \t 5\n",
      "31 \t Hume \t 1\n",
      "32 \t Latrobe - Gippsland \t 108\n",
      "33 \t Melbourne - Inner \t 1\n",
      "34 \t Melbourne - Inner East \t 1\n",
      "35 \t Melbourne - Inner South \t 1\n",
      "36 \t Melbourne - North East \t 1\n",
      "37 \t Melbourne - North West \t 1\n",
      "38 \t Melbourne - Outer East \t 1\n",
      "39 \t Melbourne - South East \t 1\n",
      "40 \t Melbourne - West \t 1\n",
      "41 \t Mornington Peninsula \t 24\n",
      "42 \t North West \t 1\n",
      "43 \t Shepparton \t 1\n",
      "44 \t Warrnambool and South West \t 23\n",
      "45 \t Brisbane - East \t 21\n",
      "46 \t Brisbane - North \t 1\n",
      "47 \t Brisbane - South \t 1\n",
      "48 \t Brisbane - West \t 3\n",
      "49 \t Brisbane Inner City \t 2\n",
      "50 \t Cairns \t 55\n",
      "51 \t Darling Downs - Maranoa \t 1\n",
      "52 \t Central Queensland \t 234\n",
      "53 \t Gold Coast \t 46\n",
      "54 \t Ipswich \t 1\n",
      "55 \t Logan - Beaudesert \t 1\n",
      "56 \t Mackay - Isaac - Whitsunday \t 239\n",
      "57 \t Moreton Bay - North \t 13\n",
      "58 \t Moreton Bay - South \t 1\n",
      "59 \t Queensland - Outback \t 380\n",
      "60 \t Sunshine Coast \t 17\n",
      "61 \t Toowoomba \t 1\n",
      "62 \t Townsville \t 24\n",
      "63 \t Wide Bay \t 116\n",
      "64 \t Adelaide - Central and Hills \t 1\n",
      "65 \t Adelaide - North \t 1\n",
      "66 \t Adelaide - South \t 1\n",
      "67 \t Adelaide - West \t 4\n",
      "68 \t Barossa - Yorke - Mid North \t 29\n",
      "69 \t South Australia - Outback \t 136\n",
      "70 \t South Australia - South East \t 56\n",
      "71 \t Bunbury \t 139\n",
      "72 \t Mandurah \t 5\n",
      "73 \t Perth - Inner \t 1\n",
      "74 \t Perth - North East \t 1\n",
      "75 \t Perth - North West \t 1\n",
      "76 \t Perth - South East \t 1\n",
      "77 \t Perth - South West \t 12\n",
      "78 \t Western Australia - Wheat Belt \t 79\n",
      "79 \t Western Australia - Outback (North) \t 1851\n",
      "80 \t Western Australia - Outback (South) \t 526\n",
      "81 \t Hobart \t 69\n",
      "82 \t Launceston and North East \t 160\n",
      "83 \t South East \t 327\n",
      "84 \t West and North West \t 1368\n",
      "85 \t Darwin \t 15\n",
      "86 \t Northern Territory - Outback \t 237\n",
      "87 \t Australian Capital Territory \t 1\n",
      "88 \t Other Territories \t 91\n"
     ]
    }
   ],
   "source": [
    "for i in range(len(features)):\n",
    "    \n",
    "    print(i,'\\t',features[i]['properties']['feature_name'] ,'\\t',len(features[i]['geometry']['coordinates']))\n"
   ]
  },
  {
   "cell_type": "markdown",
   "metadata": {
    "scrolled": true
   },
   "source": [
    "polygons = []\n",
    "\n",
    "counter = 0\n",
    "for i in range (0, len(features)):\n",
    "    polygon_coordinates = features[i]['geometry']['coordinates']\n",
    "    name_of_area = features[i]['properties']['feature_name'] \n",
    "    print(name_of_area, len(polygon_coordinates))\n",
    "    for j in range(0, len(polygon_coordinates)):\n",
    "        try:\n",
    "            polygons.append((name_of_area, Polygon(polygon_coordinates[i][j])))\n",
    "        except: \n",
    "            print(name_of_area, j)\n",
    "    counter += len(polygon_coordinates)\n",
    "        \n",
    "print(counter)"
   ]
  },
  {
   "cell_type": "markdown",
   "metadata": {},
   "source": [
    "\n",
    "\n",
    "->Latitude measures how far north or south of the equator a place is located. The equator is situated at 0°, the North Pole at 90° north (or 90°, because a positive latitude implies north), and the South Pole at 90° south (or –90°). Latitude measurements range from 0° to (+/–)90°.\n",
    "\n",
    "->Longitude measures how far east or west of the prime meridian a place is located. The prime meridian runs through Greenwich, England. Longitude measurements range from 0° to (+/–)180°."
   ]
  },
  {
   "cell_type": "code",
   "execution_count": 29,
   "metadata": {},
   "outputs": [],
   "source": [
    "from shapely.geometry import Point, Polygon\n",
    "from shapely.geometry.polygon import LinearRing"
   ]
  },
  {
   "cell_type": "code",
   "execution_count": 30,
   "metadata": {},
   "outputs": [],
   "source": [
    "import numpy as np"
   ]
  },
  {
   "cell_type": "code",
   "execution_count": 31,
   "metadata": {},
   "outputs": [],
   "source": [
    "import matplotlib \n",
    "import matplotlib.pyplot as plt\n",
    "%matplotlib inline"
   ]
  },
  {
   "cell_type": "code",
   "execution_count": null,
   "metadata": {},
   "outputs": [],
   "source": []
  },
  {
   "cell_type": "code",
   "execution_count": 32,
   "metadata": {},
   "outputs": [],
   "source": [
    "points = np.array(features[52]['geometry']['coordinates'][0][0])"
   ]
  },
  {
   "cell_type": "code",
   "execution_count": 41,
   "metadata": {},
   "outputs": [],
   "source": [
    "points = np.array([[111,-44],[111,-10],[157,-10],[157,-44]])"
   ]
  },
  {
   "cell_type": "code",
   "execution_count": 42,
   "metadata": {},
   "outputs": [
    {
     "name": "stdout",
     "output_type": "stream",
     "text": [
      "[134.0, -27.0]\n"
     ]
    },
    {
     "data": {
      "image/png": "[encoded data removed]",
      "text/plain": [
       "<matplotlib.figure.Figure at 0x1537f9a90>"
      ]
     },
     "metadata": {},
     "output_type": "display_data"
    }
   ],
   "source": [
    "plt.plot(points[:,0], points[:,1])\n",
    "plt.xlim(points[:,0].min(), points[:,0].max())\n",
    "plt.ylim(points[:,1].min(), points[:,1].max())\n",
    "x = (points[:,0].max() - points[:,0].min())/2 + points[:,0].min()\n",
    "y = (points[:,1].max() - points[:,1].min())/2 + points[:,1].min()\n",
    "plt.scatter([x],[y])\n",
    "print([x,y])"
   ]
  },
  {
   "cell_type": "code",
   "execution_count": 34,
   "metadata": {},
   "outputs": [],
   "source": [
    "polygon = Polygon(features[65]['geometry']['coordinates'][0][0])\n",
    "polygon.centroid\n",
    "pnt = Point(x,y)"
   ]
  },
  {
   "cell_type": "code",
   "execution_count": 35,
   "metadata": {},
   "outputs": [
    {
     "data": {
      "text/plain": [
       "(False, False)"
      ]
     },
     "execution_count": 35,
     "metadata": {},
     "output_type": "execute_result"
    }
   ],
   "source": [
    "pnt.within(polygon), polygon.contains(pnt)"
   ]
  },
  {
   "cell_type": "code",
   "execution_count": 40,
   "metadata": {},
   "outputs": [
    {
     "name": "stdout",
     "output_type": "stream",
     "text": [
      "POINT (134 -27)\n"
     ]
    }
   ],
   "source": [
    "polygon = Polygon([[111,-44],[111,-10],[157,-10],[157,-44]])\n",
    "\n",
    "print(polygon.centroid)\n",
    "\n",
    "\n"
   ]
  },
  {
   "cell_type": "code",
   "execution_count": null,
   "metadata": {},
   "outputs": [],
   "source": []
  }
 ],
 "metadata": {
  "hide_input": false,
  "kernelspec": {
   "display_name": "Python 3",
   "language": "python",
   "name": "python3"
  },
  "language_info": {
   "codemirror_mode": {
    "name": "ipython",
    "version": 3
   },
   "file_extension": ".py",
   "mimetype": "text/x-python",
   "name": "python",
   "nbconvert_exporter": "python",
   "pygments_lexer": "ipython3",
   "version": "3.6.3"
  },
  "toc": {
   "nav_menu": {},
   "number_sections": true,
   "sideBar": true,
   "skip_h1_title": false,
   "toc_cell": false,
   "toc_position": {},
   "toc_section_display": "block",
   "toc_window_display": true
  }
 },
 "nbformat": 4,
 "nbformat_minor": 2
}
