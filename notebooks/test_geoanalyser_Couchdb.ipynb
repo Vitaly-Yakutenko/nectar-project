{
 "cells": [
  {
   "cell_type": "code",
   "execution_count": 1,
   "metadata": {},
   "outputs": [],
   "source": [
    "import json\n",
    "import os\n",
    "import time\n",
    "import yaml\n",
    "os.chdir('../')\n",
    "from api.couch_db import TweetsDB"
   ]
  },
  {
   "cell_type": "code",
   "execution_count": 2,
   "metadata": {},
   "outputs": [],
   "source": [
    "from glob import glob"
   ]
  },
  {
   "cell_type": "code",
   "execution_count": 3,
   "metadata": {},
   "outputs": [],
   "source": [
    "import pandas as pd"
   ]
  },
  {
   "cell_type": "code",
   "execution_count": 4,
   "metadata": {},
   "outputs": [],
   "source": [
    "with open(\"config.yaml\", 'r') as ymlfile:\n",
    "    cfg = yaml.load(ymlfile)"
   ]
  },
  {
   "cell_type": "code",
   "execution_count": 5,
   "metadata": {},
   "outputs": [],
   "source": [
    "#db connections\n",
    "couch_db_conf = cfg['COUCHDB']\n",
    "#create an instance of TWEETSDB and pass the connection details\n",
    "couch_db = TweetsDB(couch_db_conf)"
   ]
  },
  {
   "cell_type": "code",
   "execution_count": 6,
   "metadata": {},
   "outputs": [],
   "source": [
    "df = pd.read_csv('notebooks/SA2_2016_AUST.csv')"
   ]
  },
  {
   "cell_type": "code",
   "execution_count": 7,
   "metadata": {},
   "outputs": [],
   "source": [
    "columns = ['SA4_CODE_2016', 'SA4_NAME_2016', 'GCCSA_NAME_2016', 'STATE_NAME_2016']"
   ]
  },
  {
   "cell_type": "code",
   "execution_count": 8,
   "metadata": {},
   "outputs": [
    {
     "data": {
      "text/html": [
       "<div>\n",
       "<style scoped>\n",
       "    .dataframe tbody tr th:only-of-type {\n",
       "        vertical-align: middle;\n",
       "    }\n",
       "\n",
       "    .dataframe tbody tr th {\n",
       "        vertical-align: top;\n",
       "    }\n",
       "\n",
       "    .dataframe thead th {\n",
       "        text-align: right;\n",
       "    }\n",
       "</style>\n",
       "<table border=\"1\" class=\"dataframe\">\n",
       "  <thead>\n",
       "    <tr style=\"text-align: right;\">\n",
       "      <th></th>\n",
       "      <th>SA4_NAME_2016</th>\n",
       "      <th>GCCSA_NAME_2016</th>\n",
       "      <th>STATE_NAME_2016</th>\n",
       "    </tr>\n",
       "    <tr>\n",
       "      <th>SA4_CODE_2016</th>\n",
       "      <th></th>\n",
       "      <th></th>\n",
       "      <th></th>\n",
       "    </tr>\n",
       "  </thead>\n",
       "  <tbody>\n",
       "    <tr>\n",
       "      <th>101</th>\n",
       "      <td>Capital Region</td>\n",
       "      <td>Rest of NSW</td>\n",
       "      <td>New South Wales</td>\n",
       "    </tr>\n",
       "    <tr>\n",
       "      <th>102</th>\n",
       "      <td>Central Coast</td>\n",
       "      <td>Greater Sydney</td>\n",
       "      <td>New South Wales</td>\n",
       "    </tr>\n",
       "    <tr>\n",
       "      <th>103</th>\n",
       "      <td>Central West</td>\n",
       "      <td>Rest of NSW</td>\n",
       "      <td>New South Wales</td>\n",
       "    </tr>\n",
       "    <tr>\n",
       "      <th>104</th>\n",
       "      <td>Coffs Harbour - Grafton</td>\n",
       "      <td>Rest of NSW</td>\n",
       "      <td>New South Wales</td>\n",
       "    </tr>\n",
       "    <tr>\n",
       "      <th>105</th>\n",
       "      <td>Far West and Orana</td>\n",
       "      <td>Rest of NSW</td>\n",
       "      <td>New South Wales</td>\n",
       "    </tr>\n",
       "  </tbody>\n",
       "</table>\n",
       "</div>"
      ],
      "text/plain": [
       "                         SA4_NAME_2016 GCCSA_NAME_2016  STATE_NAME_2016\n",
       "SA4_CODE_2016                                                          \n",
       "101                     Capital Region     Rest of NSW  New South Wales\n",
       "102                      Central Coast  Greater Sydney  New South Wales\n",
       "103                       Central West     Rest of NSW  New South Wales\n",
       "104            Coffs Harbour - Grafton     Rest of NSW  New South Wales\n",
       "105                 Far West and Orana     Rest of NSW  New South Wales"
      ]
     },
     "execution_count": 8,
     "metadata": {},
     "output_type": "execute_result"
    }
   ],
   "source": [
    "mappings_df = df[columns].drop_duplicates().set_index('SA4_CODE_2016')\n",
    "mappings_df.head()"
   ]
  },
  {
   "cell_type": "code",
   "execution_count": 9,
   "metadata": {},
   "outputs": [
    {
     "data": {
      "text/plain": [
       "GCCSA_NAME_2016        Rest of NSW\n",
       "STATE_NAME_2016    New South Wales\n",
       "Name: 101, dtype: object"
      ]
     },
     "execution_count": 9,
     "metadata": {},
     "output_type": "execute_result"
    }
   ],
   "source": [
    "mappings_df.loc[101,['GCCSA_NAME_2016', 'STATE_NAME_2016']]"
   ]
  },
  {
   "cell_type": "code",
   "execution_count": 10,
   "metadata": {},
   "outputs": [
    {
     "data": {
      "text/plain": [
       "'Rest of NSW'"
      ]
     },
     "execution_count": 10,
     "metadata": {},
     "output_type": "execute_result"
    }
   ],
   "source": [
    "mappings_df.loc[101]['GCCSA_NAME_2016']"
   ]
  },
  {
   "cell_type": "markdown",
   "metadata": {},
   "source": []
  },
  {
   "cell_type": "code",
   "execution_count": 11,
   "metadata": {},
   "outputs": [],
   "source": [
    "with open('notebooks/SA4_data_for_geotagging.json', 'r') as fp:\n",
    "    data = json.load(fp)"
   ]
  },
  {
   "cell_type": "code",
   "execution_count": 12,
   "metadata": {},
   "outputs": [
    {
     "data": {
      "text/plain": [
       "dict_keys(['type', 'crs', 'features'])"
      ]
     },
     "execution_count": 12,
     "metadata": {},
     "output_type": "execute_result"
    }
   ],
   "source": [
    "data.keys()"
   ]
  },
  {
   "cell_type": "code",
   "execution_count": 13,
   "metadata": {},
   "outputs": [],
   "source": [
    "features = data['features']"
   ]
  },
  {
   "cell_type": "code",
   "execution_count": 14,
   "metadata": {},
   "outputs": [
    {
     "data": {
      "text/plain": [
       "89"
      ]
     },
     "execution_count": 14,
     "metadata": {},
     "output_type": "execute_result"
    }
   ],
   "source": [
    "len(features)"
   ]
  },
  {
   "cell_type": "code",
   "execution_count": 15,
   "metadata": {},
   "outputs": [
    {
     "data": {
      "text/plain": [
       "dict_keys(['type', 'geometry', 'properties', 'id'])"
      ]
     },
     "execution_count": 15,
     "metadata": {},
     "output_type": "execute_result"
    }
   ],
   "source": [
    "features[0].keys()"
   ]
  },
  {
   "cell_type": "code",
   "execution_count": 16,
   "metadata": {},
   "outputs": [
    {
     "data": {
      "text/plain": [
       "{'feature_code': '105',\n",
       " 'feature_name': 'Far West and Orana',\n",
       " 'median_tot_fam_inc_weekly': 1386,\n",
       " 'median_tot_prsnl_inc_weekly': 590,\n",
       " 'sa4_code16': '105',\n",
       " 'sa4_name16': 'Far West and Orana'}"
      ]
     },
     "execution_count": 16,
     "metadata": {},
     "output_type": "execute_result"
    }
   ],
   "source": [
    "features[4]['properties']"
   ]
  },
  {
   "cell_type": "code",
   "execution_count": 17,
   "metadata": {},
   "outputs": [
    {
     "name": "stdout",
     "output_type": "stream",
     "text": [
      "0 \t Capital Region \t 109\n",
      "1 \t Central Coast \t 4\n",
      "2 \t Central West \t 1\n",
      "3 \t Coffs Harbour - Grafton \t 26\n",
      "4 \t Far West and Orana \t 1\n",
      "5 \t Hunter Valley exc Newcastle \t 42\n",
      "6 \t Illawarra \t 7\n",
      "7 \t Mid North Coast \t 40\n",
      "8 \t Murray \t 1\n",
      "9 \t New England and North West \t 1\n",
      "10 \t Newcastle and Lake Macquarie \t 7\n",
      "11 \t Richmond - Tweed \t 9\n",
      "12 \t Riverina \t 1\n",
      "13 \t Southern Highlands and Shoalhaven \t 4\n",
      "14 \t Sydney - Baulkham Hills and Hawkesbury \t 2\n",
      "15 \t Sydney - Blacktown \t 1\n",
      "16 \t Sydney - City and Inner South \t 3\n",
      "17 \t Sydney - Eastern Suburbs \t 5\n",
      "18 \t Sydney - Inner South West \t 1\n",
      "19 \t Sydney - Inner West \t 2\n",
      "20 \t Sydney - North Sydney and Hornsby \t 3\n",
      "21 \t Sydney - Northern Beaches \t 3\n",
      "22 \t Sydney - Outer South West \t 1\n",
      "23 \t Sydney - Outer West and Blue Mountains \t 1\n",
      "24 \t Sydney - Parramatta \t 1\n",
      "25 \t Sydney - Ryde \t 1\n",
      "26 \t Sydney - South West \t 1\n",
      "27 \t Sydney - Sutherland \t 1\n",
      "28 \t Ballarat \t 1\n",
      "29 \t Bendigo \t 1\n",
      "30 \t Geelong \t 5\n",
      "31 \t Hume \t 1\n",
      "32 \t Latrobe - Gippsland \t 108\n",
      "33 \t Melbourne - Inner \t 1\n",
      "34 \t Melbourne - Inner East \t 1\n",
      "35 \t Melbourne - Inner South \t 1\n",
      "36 \t Melbourne - North East \t 1\n",
      "37 \t Melbourne - North West \t 1\n",
      "38 \t Melbourne - Outer East \t 1\n",
      "39 \t Melbourne - South East \t 1\n",
      "40 \t Melbourne - West \t 1\n",
      "41 \t Mornington Peninsula \t 24\n",
      "42 \t North West \t 1\n",
      "43 \t Shepparton \t 1\n",
      "44 \t Warrnambool and South West \t 23\n",
      "45 \t Brisbane - East \t 21\n",
      "46 \t Brisbane - North \t 1\n",
      "47 \t Brisbane - South \t 1\n",
      "48 \t Brisbane - West \t 3\n",
      "49 \t Brisbane Inner City \t 2\n",
      "50 \t Cairns \t 55\n",
      "51 \t Darling Downs - Maranoa \t 1\n",
      "52 \t Central Queensland \t 234\n",
      "53 \t Gold Coast \t 46\n",
      "54 \t Ipswich \t 1\n",
      "55 \t Logan - Beaudesert \t 1\n",
      "56 \t Mackay - Isaac - Whitsunday \t 239\n",
      "57 \t Moreton Bay - North \t 13\n",
      "58 \t Moreton Bay - South \t 1\n",
      "59 \t Queensland - Outback \t 380\n",
      "60 \t Sunshine Coast \t 17\n",
      "61 \t Toowoomba \t 1\n",
      "62 \t Townsville \t 24\n",
      "63 \t Wide Bay \t 116\n",
      "64 \t Adelaide - Central and Hills \t 1\n",
      "65 \t Adelaide - North \t 1\n",
      "66 \t Adelaide - South \t 1\n",
      "67 \t Adelaide - West \t 4\n",
      "68 \t Barossa - Yorke - Mid North \t 29\n",
      "69 \t South Australia - Outback \t 136\n",
      "70 \t South Australia - South East \t 56\n",
      "71 \t Bunbury \t 139\n",
      "72 \t Mandurah \t 5\n",
      "73 \t Perth - Inner \t 1\n",
      "74 \t Perth - North East \t 1\n",
      "75 \t Perth - North West \t 1\n",
      "76 \t Perth - South East \t 1\n",
      "77 \t Perth - South West \t 12\n",
      "78 \t Western Australia - Wheat Belt \t 79\n",
      "79 \t Western Australia - Outback (North) \t 1851\n",
      "80 \t Western Australia - Outback (South) \t 526\n",
      "81 \t Hobart \t 69\n",
      "82 \t Launceston and North East \t 160\n",
      "83 \t South East \t 327\n",
      "84 \t West and North West \t 1368\n",
      "85 \t Darwin \t 15\n",
      "86 \t Northern Territory - Outback \t 237\n",
      "87 \t Australian Capital Territory \t 1\n",
      "88 \t Other Territories \t 91\n"
     ]
    }
   ],
   "source": [
    "for i in range(len(features)):\n",
    "    \n",
    "    print(i,'\\t',features[i]['properties']['feature_name'] ,'\\t',len(features[i]['geometry']['coordinates']))\n"
   ]
  },
  {
   "cell_type": "code",
   "execution_count": 18,
   "metadata": {},
   "outputs": [],
   "source": [
    "from shapely.geometry import Point, Polygon"
   ]
  },
  {
   "cell_type": "code",
   "execution_count": 19,
   "metadata": {},
   "outputs": [],
   "source": [
    "a =[152.0326921, -28.19089878] \n"
   ]
  },
  {
   "cell_type": "code",
   "execution_count": 20,
   "metadata": {},
   "outputs": [],
   "source": [
    "def geo_check(coordinates):\n",
    "    if isinstance(coordinates[0], list):              #check if polygon\n",
    "        coordinate_polygon = Polygon(coordinates[0])\n",
    "        pnt = Point(coordinate_polygon.centroid)\n",
    "\n",
    "    else:\n",
    "        pnt = Point(coordinates)\n",
    "         \n",
    "    for i in range(len(features)):\n",
    "        for j in range(len(features[i]['geometry']['coordinates'])):\n",
    "     \n",
    "            poly = Polygon(features[i]['geometry']['coordinates'][j][0])\n",
    "            idx = int(features[i]['properties']['sa4_code16'])\n",
    "            \n",
    "            if pnt.within(poly):\n",
    "                return {'SA4_name':features[i]['properties']['feature_name'],\n",
    "                        'SA4_code':idx,\n",
    "                        'GCCSA_name':mappings_df.loc[idx]['GCCSA_NAME_2016'],\n",
    "                        'State_name':mappings_df.loc[idx]['STATE_NAME_2016']}\n",
    "                break\n",
    "            \n",
    "            elif pnt.touches(poly):\n",
    "                return {'SA4_name':features[i]['properties']['feature_name'],\n",
    "                        'SA4_code':idx,\n",
    "                        'GCCSA_name':mappings_df.loc[idx]['GCCSA_NAME_2016'],\n",
    "                        'State_name':mappings_df.loc[idx]['STATE_NAME_2016']}\n",
    "                break\n",
    "            "
   ]
  },
  {
   "cell_type": "code",
   "execution_count": 21,
   "metadata": {},
   "outputs": [],
   "source": [
    "def none_geo_check(coordinates):\n",
    "    dist_from_point = []\n",
    "    dist_point_id = []\n",
    "    if isinstance(coordinates[0], list):              #check if polygon\n",
    "        coordinate_polygon = Polygon(coordinates[0])\n",
    "        pnt = Point(coordinate_polygon.centroid)\n",
    "\n",
    "    else:\n",
    "        pnt = Point(coordinates)\n",
    "         \n",
    "    for i in range(len(features)):\n",
    "        for j in range(len(features[i]['geometry']['coordinates'])):\n",
    "     \n",
    "            poly = Polygon(features[i]['geometry']['coordinates'][j][0])\n",
    "            \n",
    "            dist_from_point.append(poly.exterior.distance(pnt))\n",
    "            dist_point_id.append(i)\n",
    "            \n",
    "\n",
    "    min_index = dist_point_id[dist_from_point.index(min(dist_from_point))]   \n",
    "    idx = int(features[min_index]['properties']['sa4_code16'])\n",
    "    return {'SA4_name':features[min_index]['properties']['feature_name'],\n",
    "                        'SA4_code':idx,\n",
    "                        'GCCSA_name':mappings_df.loc[idx]['GCCSA_NAME_2016'],\n",
    "                        'State_name':mappings_df.loc[idx]['STATE_NAME_2016']}\n",
    "\n",
    "        "
   ]
  },
  {
   "cell_type": "code",
   "execution_count": 22,
   "metadata": {
    "scrolled": true
   },
   "outputs": [
    {
     "name": "stdout",
     "output_type": "stream",
     "text": [
      "None\n"
     ]
    }
   ],
   "source": [
    "print(geo_check([151.211, -33.86]))"
   ]
  },
  {
   "cell_type": "code",
   "execution_count": null,
   "metadata": {},
   "outputs": [],
   "source": []
  },
  {
   "cell_type": "code",
   "execution_count": 23,
   "metadata": {},
   "outputs": [],
   "source": [
    "geo_tasks_path= cfg['QUEUES']['geo_tasks']"
   ]
  },
  {
   "cell_type": "code",
   "execution_count": null,
   "metadata": {},
   "outputs": [
    {
     "name": "stdout",
     "output_type": "stream",
     "text": [
      "991526112093028352\n",
      "991493140270858240\n",
      "991563363053223936\n",
      "991531911758598144\n",
      "991570085356568582\n",
      "991556504162451456\n",
      "991621232700215296\n",
      "990046602940137472\n",
      "991498889344643072\n",
      "991554709021315072\n"
     ]
    }
   ],
   "source": [
    "geo_tweets = glob('{}/*.txt'.format(geo_tasks_path))\n",
    "for path in geo_tweets[:10]:\n",
    "    tweet_id = path.split('/')[-1].split('.')[0]\n",
    "    print(tweet_id)"
   ]
  },
  {
   "cell_type": "code",
   "execution_count": null,
   "metadata": {
    "scrolled": true
   },
   "outputs": [],
   "source": [
    "i = 1\n",
    "while True:\n",
    "    geo_tweets = glob('{}/*.txt'.format(geo_tasks_path))\n",
    " \n",
    "    for path in geo_tweets:\n",
    "        try:\n",
    "            tweet_id = path.split('/')[-1].split('.')[0]\n",
    "            with open(path, 'r') as fp:\n",
    "                geo = json.load(fp)\n",
    "            geo_doc =geo_check(geo['coordinates'])\n",
    "            if geo_doc== None:\n",
    "                none_geo = none_geo_check(geo['coordinates'])\n",
    "                couch_db.update_document(tweet_id,none_geo)\n",
    "            else:             \n",
    "                couch_db.update_document(tweet_id,geo_doc)\n",
    "            try:\n",
    "                os.remove(path)\n",
    "            except Exception as e:\n",
    "                           # if failed, report it back to the user \n",
    "                print(\"Error: {} .\".format(e))\n",
    "        except Exception as e:\n",
    "            print('Tweet {} wasn\\'t geotagged and updated on DB due to error. {}'.format(tweet_id, e))\n",
    "         \n",
    "    print('Iteration: {}\\tFiles processed: {}'.format(i, len(geo_tweets)))\n",
    "    i+=1\n",
    "    time.sleep(18)"
   ]
  },
  {
   "cell_type": "code",
   "execution_count": null,
   "metadata": {},
   "outputs": [],
   "source": []
  }
 ],
 "metadata": {
  "kernelspec": {
   "display_name": "Python 3",
   "language": "python",
   "name": "python3"
  },
  "language_info": {
   "codemirror_mode": {
    "name": "ipython",
    "version": 3
   },
   "file_extension": ".py",
   "mimetype": "text/x-python",
   "name": "python",
   "nbconvert_exporter": "python",
   "pygments_lexer": "ipython3",
   "version": "3.6.2"
  }
 },
 "nbformat": 4,
 "nbformat_minor": 2
}
