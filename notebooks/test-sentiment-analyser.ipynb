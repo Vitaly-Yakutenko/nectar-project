{
 "cells": [
  {
   "cell_type": "code",
   "execution_count": 7,
   "metadata": {},
   "outputs": [
    {
     "name": "stdout",
     "output_type": "stream",
     "text": [
      "[nltk_data] Downloading package vader_lexicon to\n",
      "[nltk_data]     /Users/hima95/nltk_data...\n",
      "[nltk_data]   Package vader_lexicon is already up-to-date!\n",
      "[nltk_data] Downloading package punkt to /Users/hima95/nltk_data...\n",
      "[nltk_data]   Package punkt is already up-to-date!\n"
     ]
    }
   ],
   "source": [
    "#importing and downloading revelant modules from NLTK\n",
    "import nltk\n",
    "nltk.download('vader_lexicon')\n",
    "nltk.download('punkt')\n",
    "from nltk.sentiment.vader import SentimentIntensityAnalyzer"
   ]
  },
  {
   "cell_type": "code",
   "execution_count": 8,
   "metadata": {},
   "outputs": [
    {
     "name": "stdout",
     "output_type": "stream",
     "text": [
      "Enter the tweet here for sentiment \n",
      "Bam-BOOO: More Bad Press for Pandas http://www.mediabistro.com/prnewser/bam-booo-more-bad-press-for-pandas_b71206 … (@abeautyfeature)\n",
      "{'neg': 0.351, 'neu': 0.649, 'pos': 0.0, 'compound': -0.5849, 'sentiment': 'Negative', 'Intensity': 'Strong'}\n",
      "the Sentiment is: Negative , and it is: Strong\n"
     ]
    }
   ],
   "source": [
    "senti = SentimentIntensityAnalyzer()\n",
    "\n",
    "input_tweet= input(\"Enter the tweet here for sentiment \\n\")\n",
    "points = senti.polarity_scores(input_tweet)\n",
    "if points['compound']<0.0:\n",
    "    points['sentiment']= \"Negative\"\n",
    "    if points['compound']<= -0.5:\n",
    "        points['Intensity']=\"Strong\"\n",
    "    if -0.5 <points['compound']< 0.0:\n",
    "        points['Intensity']=\"Moderate\"\n",
    "if points['compound']>0.0:\n",
    "    points['sentiment']= \"Positive\"\n",
    "    if points['compound']>= 0.5:\n",
    "        points['Intensity']=\"Strong\"\n",
    "    if 0.0<points['compound']<0.5:\n",
    "        points['Intensity']=\"Moderate\"\n",
    "if points['neu']==1:\n",
    "    points['Intensity']=\"Neutral\"       \n",
    "print(points)\n",
    "print(\"the Sentiment is:\",points['sentiment'],\", and it is:\",points['Intensity'])\n",
    "        \n",
    "            \n",
    "            \n",
    "    \n",
    "    \n",
    "    \n",
    "  "
   ]
  },
  {
   "cell_type": "code",
   "execution_count": null,
   "metadata": {},
   "outputs": [],
   "source": []
  }
 ],
 "metadata": {
  "kernelspec": {
   "display_name": "Python 3",
   "language": "python",
   "name": "python3"
  },
  "language_info": {
   "codemirror_mode": {
    "name": "ipython",
    "version": 3
   },
   "file_extension": ".py",
   "mimetype": "text/x-python",
   "name": "python",
   "nbconvert_exporter": "python",
   "pygments_lexer": "ipython3",
   "version": "3.6.3"
  }
 },
 "nbformat": 4,
 "nbformat_minor": 2
}
