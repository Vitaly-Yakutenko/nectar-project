{
 "cells": [
  {
   "cell_type": "code",
   "execution_count": 1,
   "metadata": {},
   "outputs": [],
   "source": [
    "from glob import glob\n",
    "import json\n",
    "import re\n",
    "import yaml\n",
    "import os\n",
    "os.chdir('../')"
   ]
  },
  {
   "cell_type": "code",
   "execution_count": 2,
   "metadata": {},
   "outputs": [],
   "source": [
    "with open(\"config.yaml\", 'r') as ymlfile:\n",
    "    cfg = yaml.load(ymlfile)"
   ]
  },
  {
   "cell_type": "code",
   "execution_count": 3,
   "metadata": {},
   "outputs": [],
   "source": [
    "queues_cfg = cfg['QUEUES']"
   ]
  },
  {
   "cell_type": "code",
   "execution_count": 11,
   "metadata": {},
   "outputs": [],
   "source": [
    "tweets_queue_path = queues_cfg['new_tweets']\n",
    "sa_queue_path = queues_cfg['sentiment_tasks']\n",
    "geo_queue_path = queues_cfg['geo_tasks']"
   ]
  },
  {
   "cell_type": "code",
   "execution_count": 16,
   "metadata": {},
   "outputs": [],
   "source": [
    "def create_geo_task(tweet_id, coordinates):\n",
    "    filename = '{}/{}.task.txt'.format(geo_queue_path, tweet_id)\n",
    "    with open(filename, 'w') as fp:\n",
    "        fp.write(json.dumps(coordinates))\n",
    "        fp.close()\n",
    "\n",
    "def create_sentiment_task(tweet_id, text):\n",
    "    filename = '{}/{}.task.txt'.format(sa_queue_path, tweet_id)\n",
    "    with open(filename, 'w') as fp:\n",
    "        fp.write(text)\n",
    "        fp.close()"
   ]
  },
  {
   "cell_type": "code",
   "execution_count": null,
   "metadata": {},
   "outputs": [],
   "source": []
  },
  {
   "cell_type": "code",
   "execution_count": 17,
   "metadata": {},
   "outputs": [
    {
     "data": {
      "text/plain": [
       "44166"
      ]
     },
     "execution_count": 17,
     "metadata": {},
     "output_type": "execute_result"
    }
   ],
   "source": [
    "unprocessed_tweets = glob('{}/*.json'.format(tweets_queue_path))\n",
    "len(unprocessed_tweets)"
   ]
  },
  {
   "cell_type": "markdown",
   "metadata": {},
   "source": [
    "pathes = glob('../data/tweet_no_coordinates/*.json')\n",
    "len(pathes)"
   ]
  },
  {
   "cell_type": "code",
   "execution_count": 18,
   "metadata": {},
   "outputs": [],
   "source": [
    "hashtags = ['bitcoin', 'blockchain', 'btc', 'cryptocurrency', 'market\\svalue',\n",
    "            'crypto','ethereum', 'fintech', 'coin', 'doge', 'ethereum', 'ripple', 'litecoin', \n",
    "            'cardano', 'monero', 'TRON', 'zcash', 'jaxx', 'copay', 'bitpay', 'exodus', \n",
    "            'mycelium', 'Bread\\sWallet', 'trezor', 'ledger\\snano', 'Silk\\sRoad', 'darknet\\smarket', \n",
    "            'dogecoin', 'ASIC\\sMiner', 'Central\\sLedger', 'Hashrate', 'ICO',         \n",
    "           ]"
   ]
  },
  {
   "cell_type": "code",
   "execution_count": 19,
   "metadata": {},
   "outputs": [
    {
     "data": {
      "text/plain": [
       "'bitcoin|blockchain|btc|cryptocurrency|market\\\\svalue|crypto|ethereum|fintech|coin|doge|ethereum|ripple|litecoin|cardano|monero|TRON|zcash|jaxx|copay|bitpay|exodus|mycelium|Bread\\\\sWallet|trezor|ledger\\\\snano|Silk\\\\sRoad|darknet\\\\smarket|dogecoin|ASIC\\\\sMiner|Central\\\\sLedger|Hashrate|ICO'"
      ]
     },
     "execution_count": 19,
     "metadata": {},
     "output_type": "execute_result"
    }
   ],
   "source": [
    "'|'.join(hashtags)"
   ]
  },
  {
   "cell_type": "code",
   "execution_count": 20,
   "metadata": {},
   "outputs": [],
   "source": [
    "bitcoin_pathes = []\n",
    "for path in (unprocessed_tweets):\n",
    "    with open(path, 'r') as fp:\n",
    "        data = json.load(fp)\n",
    "        if re.search('|'.join(hashtags), json.dumps(data)):\n",
    "            bitcoin_pathes.append(path)\n",
    "        #print(data['entities']['hashtags'])\n"
   ]
  },
  {
   "cell_type": "code",
   "execution_count": 21,
   "metadata": {},
   "outputs": [
    {
     "data": {
      "text/plain": [
       "384"
      ]
     },
     "execution_count": 21,
     "metadata": {},
     "output_type": "execute_result"
    }
   ],
   "source": [
    "len(bitcoin_pathes)"
   ]
  },
  {
   "cell_type": "code",
   "execution_count": 29,
   "metadata": {},
   "outputs": [
    {
     "name": "stdout",
     "output_type": "stream",
     "text": [
      "988986510979497985\n"
     ]
    }
   ],
   "source": [
    "invalid_path = ''\n",
    "for path in bitcoin_pathes:\n",
    "    with open(path, 'r') as fp:\n",
    "        data = json.load(fp)\n",
    "        tweet_id = data['id_str']\n",
    "        coordinates = []\n",
    "        \n",
    "        try:\n",
    "            if data['coordinates'] is not None:\n",
    "                coordinates = data['coordinates']\n",
    "            elif data['place'] is not None:\n",
    "                coordinates = data['place']['bounding_box']\n",
    "            else:\n",
    "                print(tweet_id)\n",
    "            create_geo_task(tweet_id, coordinates=coordinates)\n",
    "        except Exception as e:\n",
    "            print(tweet_id)\n",
    "            print(data)\n",
    "            invalid_path = path\n",
    "            raise e\n",
    "            \n",
    "        #print(coordinates)\n",
    "        "
   ]
  },
  {
   "cell_type": "code",
   "execution_count": 28,
   "metadata": {},
   "outputs": [
    {
     "data": {
      "text/plain": [
       "{'contributors': None,\n",
       " 'coordinates': None,\n",
       " 'created_at': 'Wed Apr 25 03:42:13 +0000 2018',\n",
       " 'display_text_range': [0, 140],\n",
       " 'entities': {'hashtags': [],\n",
       "  'symbols': [],\n",
       "  'urls': [{'display_url': 'twitter.com/i/web/status/9…',\n",
       "    'expanded_url': 'https://twitter.com/i/web/status/988986510979497985',\n",
       "    'indices': [94, 117],\n",
       "    'url': 'https://t.co/JBN4A0CmUs'}],\n",
       "  'user_mentions': []},\n",
       " 'extended_tweet': {'display_text_range': [0, 221],\n",
       "  'entities': {'hashtags': [],\n",
       "   'media': [{'display_url': 'pic.twitter.com/SP3y2HBVVt',\n",
       "     'expanded_url': 'https://twitter.com/sarahfisher6333/status/988986510979497985/photo/1',\n",
       "     'id': 988986505392685056,\n",
       "     'id_str': '988986505392685056',\n",
       "     'indices': [222, 245],\n",
       "     'media_url': 'http://pbs.twimg.com/media/DbmV_J2WAAAGiZx.jpg',\n",
       "     'media_url_https': 'https://pbs.twimg.com/media/DbmV_J2WAAAGiZx.jpg',\n",
       "     'sizes': {'large': {'h': 1096, 'resize': 'fit', 'w': 2048},\n",
       "      'medium': {'h': 642, 'resize': 'fit', 'w': 1200},\n",
       "      'small': {'h': 364, 'resize': 'fit', 'w': 680},\n",
       "      'thumb': {'h': 150, 'resize': 'crop', 'w': 150}},\n",
       "     'type': 'photo',\n",
       "     'url': 'https://t.co/SP3y2HBVVt'}],\n",
       "   'symbols': [{'indices': [165, 169], 'text': 'NIO'},\n",
       "    {'indices': [172, 176], 'text': 'BPL'},\n",
       "    {'indices': [179, 184], 'text': 'WABI'},\n",
       "    {'indices': [187, 191], 'text': 'ECN'},\n",
       "    {'indices': [194, 198], 'text': 'CAG'},\n",
       "    {'indices': [201, 205], 'text': 'WRC'},\n",
       "    {'indices': [208, 213], 'text': 'ZENI'},\n",
       "    {'indices': [216, 221], 'text': 'CLAM'}],\n",
       "   'urls': [{'display_url': 'bitmex.com/register/n18UPN',\n",
       "     'expanded_url': 'https://www.bitmex.com/register/n18UPN',\n",
       "     'indices': [93, 116],\n",
       "     'url': 'https://t.co/bKVPt3E0Uu'}],\n",
       "   'user_mentions': []},\n",
       "  'extended_entities': {'media': [{'display_url': 'pic.twitter.com/SP3y2HBVVt',\n",
       "     'expanded_url': 'https://twitter.com/sarahfisher6333/status/988986510979497985/photo/1',\n",
       "     'id': 988986505392685056,\n",
       "     'id_str': '988986505392685056',\n",
       "     'indices': [222, 245],\n",
       "     'media_url': 'http://pbs.twimg.com/media/DbmV_J2WAAAGiZx.jpg',\n",
       "     'media_url_https': 'https://pbs.twimg.com/media/DbmV_J2WAAAGiZx.jpg',\n",
       "     'sizes': {'large': {'h': 1096, 'resize': 'fit', 'w': 2048},\n",
       "      'medium': {'h': 642, 'resize': 'fit', 'w': 1200},\n",
       "      'small': {'h': 364, 'resize': 'fit', 'w': 680},\n",
       "      'thumb': {'h': 150, 'resize': 'crop', 'w': 150}},\n",
       "     'type': 'photo',\n",
       "     'url': 'https://t.co/SP3y2HBVVt'}]},\n",
       "  'full_text': 'Long/Short Bitcoin moves with up to 100x Leverage at Bitmex! 💰🎉\\n\\nGet a 10% Fee Discount:\\n\\n▶️ https://t.co/bKVPt3E0Uu ◀️\\n\\nMake money even when BTC is going down! 📉📉\\n\\n$NIO | $BPL | $WABI | $ECN | $CAG | $WRC | $ZENI | $CLAM https://t.co/SP3y2HBVVt'},\n",
       " 'favorite_count': 0,\n",
       " 'favorited': False,\n",
       " 'filter_level': 'low',\n",
       " 'geo': None,\n",
       " 'id': 988986510979497985,\n",
       " 'id_str': '988986510979497985',\n",
       " 'in_reply_to_screen_name': None,\n",
       " 'in_reply_to_status_id': None,\n",
       " 'in_reply_to_status_id_str': None,\n",
       " 'in_reply_to_user_id': None,\n",
       " 'in_reply_to_user_id_str': None,\n",
       " 'is_quote_status': False,\n",
       " 'lang': 'en',\n",
       " 'place': None,\n",
       " 'possibly_sensitive': False,\n",
       " 'quote_count': 0,\n",
       " 'reply_count': 0,\n",
       " 'retweet_count': 0,\n",
       " 'retweeted': False,\n",
       " 'source': '<a href=\"http://twitter.com\" rel=\"nofollow\">Twitter Web Client</a>',\n",
       " 'text': 'Long/Short Bitcoin moves with up to 100x Leverage at Bitmex! 💰🎉\\n\\nGet a 10% Fee Discount:\\n\\n▶️… https://t.co/JBN4A0CmUs',\n",
       " 'timestamp_ms': '1524627733355',\n",
       " 'truncated': True,\n",
       " 'user': {'contributors_enabled': False,\n",
       "  'created_at': 'Fri Mar 16 05:08:36 +0000 2018',\n",
       "  'default_profile': True,\n",
       "  'default_profile_image': False,\n",
       "  'description': 'Avatar, Fisherman, Amateur Chef, Great Cornholio, Papercut Survivor. I find uncooked beef patty *very* seductive.',\n",
       "  'favourites_count': 0,\n",
       "  'follow_request_sent': None,\n",
       "  'followers_count': 2,\n",
       "  'following': None,\n",
       "  'friends_count': 40,\n",
       "  'geo_enabled': False,\n",
       "  'id': 974512736393617408,\n",
       "  'id_str': '974512736393617408',\n",
       "  'is_translator': False,\n",
       "  'lang': 'en',\n",
       "  'listed_count': 0,\n",
       "  'location': None,\n",
       "  'name': 'SarahFisher',\n",
       "  'notifications': None,\n",
       "  'profile_background_color': 'F5F8FA',\n",
       "  'profile_background_image_url': '',\n",
       "  'profile_background_image_url_https': '',\n",
       "  'profile_background_tile': False,\n",
       "  'profile_image_url': 'http://pbs.twimg.com/profile_images/987030160762458112/xUemtM65_normal.jpg',\n",
       "  'profile_image_url_https': 'https://pbs.twimg.com/profile_images/987030160762458112/xUemtM65_normal.jpg',\n",
       "  'profile_link_color': '1DA1F2',\n",
       "  'profile_sidebar_border_color': 'C0DEED',\n",
       "  'profile_sidebar_fill_color': 'DDEEF6',\n",
       "  'profile_text_color': '333333',\n",
       "  'profile_use_background_image': True,\n",
       "  'protected': False,\n",
       "  'screen_name': 'sarahfisher6333',\n",
       "  'statuses_count': 228,\n",
       "  'time_zone': None,\n",
       "  'translator_type': 'none',\n",
       "  'url': None,\n",
       "  'utc_offset': None,\n",
       "  'verified': False}}"
      ]
     },
     "execution_count": 28,
     "metadata": {},
     "output_type": "execute_result"
    }
   ],
   "source": [
    "with open(invalid_path, 'r') as fp:\n",
    "    data = json.load(fp)   \n",
    "data"
   ]
  },
  {
   "cell_type": "code",
   "execution_count": null,
   "metadata": {},
   "outputs": [],
   "source": []
  },
  {
   "cell_type": "code",
   "execution_count": null,
   "metadata": {},
   "outputs": [],
   "source": []
  },
  {
   "cell_type": "code",
   "execution_count": null,
   "metadata": {},
   "outputs": [],
   "source": []
  },
  {
   "cell_type": "code",
   "execution_count": null,
   "metadata": {},
   "outputs": [],
   "source": []
  }
 ],
 "metadata": {
  "kernelspec": {
   "display_name": "Python 3",
   "language": "python",
   "name": "python3"
  },
  "language_info": {
   "codemirror_mode": {
    "name": "ipython",
    "version": 3
   },
   "file_extension": ".py",
   "mimetype": "text/x-python",
   "name": "python",
   "nbconvert_exporter": "python",
   "pygments_lexer": "ipython3",
   "version": "3.6.2"
  }
 },
 "nbformat": 4,
 "nbformat_minor": 2
}
